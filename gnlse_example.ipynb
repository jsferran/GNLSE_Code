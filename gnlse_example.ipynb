{
 "cells": [
  {
   "cell_type": "code",
   "execution_count": 1,
   "id": "5e2cd404",
   "metadata": {},
   "outputs": [
    {
     "name": "stdout",
     "output_type": "stream",
     "text": [
      "None\n",
      "true\n",
      "[CudaDevice(id=0)]\n",
      "used     : 0.0 GB\n",
      "peak     : 0.0 GB\n",
      "total    : 0.0 GB\n",
      "largest free block: 0.0 GB\n"
     ]
    },
    {
     "name": "stderr",
     "output_type": "stream",
     "text": [
      "/home/josalferr/.local/lib/python3.12/site-packages/matplotlib/projections/__init__.py:63: UserWarning: Unable to import Axes3D. This may be due to multiple versions of Matplotlib being installed (e.g. as a system package and as a pip package). As a result, the 3D projection is not available.\n",
      "  warnings.warn(\"Unable to import Axes3D. This may be due to multiple versions of \"\n"
     ]
    }
   ],
   "source": [
    "import os\n",
    "os.environ[\"XLA_PYTHON_CLIENT_PREALLOCATE\"] = \"true\";\n",
    "os.environ[\"XLA_PYTHON_CLIENT_MEM_FRACTION\"]=\"1.00\";\n",
    "#os.environ[\"TF_GPU_ALLOCATOR\"]=\"cuda_malloc_async\";\n",
    "print(os.environ.get(\"TF_GPU_ALLOCATOR\"))\n",
    "print(os.environ.get(\"XLA_PYTHON_CLIENT_PREALLOCATE\"))\n",
    "import jax\n",
    "import jax.numpy as jnp;\n",
    "from types import SimpleNamespace;\n",
    "from pathlib import Path\n",
    "import numpy as np\n",
    "from functools import partial\n",
    "from gnlse_medium import *\n",
    "from gnlse_source import *\n",
    "from gnlse_solver import *\n",
    "from gnlse_visualizations import *\n",
    "import matplotlib.pyplot as plt\n",
    "import gc; \n",
    "gc.collect();\n",
    "\n",
    "jax.config.update(\"jax_enable_x64\", True);\n",
    "print(jax.devices());\n",
    "jr64 = 'float64';\n",
    "jc128 = 'complex128';\n",
    "\n",
    "dev = jax.devices()[0]\n",
    "stats = dev.memory_stats() \n",
    "def gb(x): return x / 1e9\n",
    "\n",
    "print(\"used     :\", gb(stats.get(\"bytes_in_use\", 0)), \"GB\")\n",
    "print(\"peak     :\", gb(stats.get(\"peak_bytes_in_use\", 0)), \"GB\")\n",
    "print(\"total    :\", gb(stats.get(\"total_device_memory\", 0)), \"GB\")\n",
    "print(\"largest free block:\", gb(stats.get(\"largest_free_block_bytes\", 0)), \"GB\")"
   ]
  },
  {
   "cell_type": "code",
   "execution_count": 2,
   "id": "b6d70e42",
   "metadata": {},
   "outputs": [
    {
     "name": "stdout",
     "output_type": "stream",
     "text": [
      "used     : 0.0 GB\n",
      "peak     : 0.0 GB\n",
      "total    : 0.0 GB\n",
      "largest free block: 0.0 GB\n",
      "used     : 0.0 GB\n",
      "peak     : 0.0 GB\n",
      "total    : 0.0 GB\n",
      "largest free block: 0.0 GB\n"
     ]
    }
   ],
   "source": [
    "stats = dev.memory_stats() \n",
    "print(\"used     :\", gb(stats.get(\"bytes_in_use\", 0)), \"GB\")\n",
    "print(\"peak     :\", gb(stats.get(\"peak_bytes_in_use\", 0)), \"GB\")\n",
    "print(\"total    :\", gb(stats.get(\"total_device_memory\", 0)), \"GB\")\n",
    "print(\"largest free block:\", gb(stats.get(\"largest_free_block_bytes\", 0)), \"GB\")\n",
    "\n",
    "\n",
    "jax.clear_caches()\n",
    "\n",
    "stats = dev.memory_stats() \n",
    "print(\"used     :\", gb(stats.get(\"bytes_in_use\", 0)), \"GB\")\n",
    "print(\"peak     :\", gb(stats.get(\"peak_bytes_in_use\", 0)), \"GB\")\n",
    "print(\"total    :\", gb(stats.get(\"total_device_memory\", 0)), \"GB\")\n",
    "print(\"largest free block:\", gb(stats.get(\"largest_free_block_bytes\", 0)), \"GB\")"
   ]
  },
  {
   "cell_type": "code",
   "execution_count": 3,
   "id": "d7c77baf",
   "metadata": {},
   "outputs": [],
   "source": [
    "#########################################################################################\n",
    "'''Spatio-temporal params: '''\n",
    "\n",
    "Nx = Ny = 256;\n",
    "Lx = Ly = 200e-6;\n",
    "Lz = 1e-2;\n",
    "Lt = 10e-12; # Length of time in seconds\n",
    "Nt = 1; # Number of time steps\n",
    "dx = Lx/Nx;\n",
    "dy = Ly/Ny;\n",
    "\n",
    "\n",
    "X, Y = make_space(Lx, Nx, Ly, Ny);"
   ]
  },
  {
   "cell_type": "code",
   "execution_count": 4,
   "id": "8d5d6b85",
   "metadata": {},
   "outputs": [
    {
     "name": "stdout",
     "output_type": "stream",
     "text": [
      "n_clad:  1.468442712535971\n"
     ]
    }
   ],
   "source": [
    "#########################################################################################\n",
    "''' Refractive index profile (GRIN in this example): '''\n",
    "\n",
    "n_core = 1.482; #n_clad = 1.451; ''' core and cladding index '''\n",
    "NA = 0.200; # numerical aperture\n",
    "n_clad = np.sqrt(n_core**2 - NA**2); # cladding index from NA\n",
    "print(\"n_clad: \", n_clad)\n",
    "r_core = 50e-6; ''' core radius '''\n",
    "alpha = 2.0; ''' Index profile exponent (alpha = 2 for parabolic GRIN) '''\n",
    "\n",
    "#nxy = make_supergauss_index(X, Y, n_core = n_core, n_clad = n_clad, r_core = r_core, m =20);\n",
    "nxy = make_polynomial_n(X, Y, n_core = n_core, n_clad = n_clad, r_core = r_core, alpha = alpha);\n",
    "n_xyomega = jnp.tile(nxy[:,:,None], (1,1 , Nt));"
   ]
  },
  {
   "cell_type": "code",
   "execution_count": 5,
   "id": "7774f3aa",
   "metadata": {},
   "outputs": [
    {
     "data": {
      "text/plain": [
       "' Comment out when folder populated '"
      ]
     },
     "execution_count": 5,
     "metadata": {},
     "output_type": "execute_result"
    }
   ],
   "source": [
    "###########################################################################################\n",
    "''' Solve for modes; comment outR,R if folder is already populated:\n",
    "(Note: Modes specific to particular Lx, Nx, Ly, Ny -> X, Y grid!):\n",
    "(Note:  n_ref is usually the core index, n_core): '''\n",
    "\n",
    "lambda0 = 1030e-9; ''' 1030 nm '''\n",
    "n_modes = 200;\n",
    "folder = Path(\"GRIN_modes\"); \n",
    "\n",
    "''' Comment out when folder populated '''\n",
    "#solve_modes(n_xy=nxy, n_ref = n_core, x = X[:, 0], y = Y[0, :], lambda0 = lambda0,\n",
    "#            n_modes = n_modes, folder = folder, maxiter = 5000, tol = 1e-9);"
   ]
  },
  {
   "cell_type": "code",
   "execution_count": 6,
   "id": "0b0ecb66",
   "metadata": {},
   "outputs": [],
   "source": [
    "############################################################################################\n",
    "''' Build a field from the discovered modes: '''\n",
    "\n",
    "weights_init = {42: 2.0 + 1j/2, 99: 1.0 + 1.6j/2} #, 100: 1.0 + 1j/2, 101: 1.0 + 1j/2, 102: 1.0 + 1j/2,};\n",
    "field_unscaled, indices, coeffs = make_source_from_files(folder=\"GRIN_modes\", heading=\"mode\", file_format = \"npz\", weights = weights_init);\n",
    "E_xy, weights = norm_scale_field_weights(field_unscaled, indices, coeffs, power = 1.0, dx = dx, dy = dy);"
   ]
  },
  {
   "cell_type": "code",
   "execution_count": 7,
   "id": "eba49fe1",
   "metadata": {},
   "outputs": [
    {
     "name": "stdout",
     "output_type": "stream",
     "text": [
      "[3162.27766017+0.j]\n",
      "(256, 256, 1)\n"
     ]
    },
    {
     "data": {
      "image/png": "[encoded data removed]",
      "text/plain": [
       "<Figure size 640x480 with 1 Axes>"
      ]
     },
     "metadata": {},
     "output_type": "display_data"
    }
   ],
   "source": [
    "############################################################################################\n",
    "power = 10e6; ''' 20 MW '''\n",
    "\n",
    "''' Define temporal profile '''\n",
    "phis = 0.0;\n",
    "t0 = 0.0;\n",
    "fwhm = 120e-15; ''' 120 fs '''\n",
    "phase = 0.0;\n",
    "omega0 = 2 * jnp.pi / lambda0; ''' Carrier frequency in rad/s '''\n",
    "T = jnp.linspace(-Lt/2, Lt/2, Nt); # time grid`\n",
    "\n",
    "#E_t = cw_temp_profile(jnp.array(lambda0, dtype = jnp.float64), phis, Lt=Lt, Nt=Nt);\n",
    "#E_t = gaussian_pulse_profile(t0, fwhm, Lt, Nt, carrier_omega=omega0, phase=phase)\n",
    "lambdas = jnp.array([1030e-9])\n",
    "phis    = jnp.array([0.0])\n",
    "E_t_cw  = cw_temp_profile_freq(lambdas, phis, Lt, Nt)\n",
    "# Gaussian: 150 fs FWHM, centered at t0=0, with a carrier shift\n",
    "#E_t_gauss = gaussian_pulse_profile_freq(t0=0.0, fwhm=150e-15, Lt=Lt, Nt=Nt, carrier_omega=0.0, phase=0.0)\n",
    "\n",
    "E_t = jnp.sqrt(power) * E_t_cw;\n",
    "print(E_t)\n",
    "\n",
    "plt.figure();\n",
    "plt.plot(T * 1e15, np.abs(E_t)**2 / 1e6);\n",
    "plt.xlabel(\"Time (fs)\"); plt.ylabel(\"Power(t) (MW)\");\n",
    "plt.title(\"Temporal profile\");\n",
    "\n",
    "field = combine_spatial_temporal(E_xy, E_t) ;\n",
    "print(jnp.shape(field));"
   ]
  },
  {
   "cell_type": "code",
   "execution_count": 8,
   "id": "b75ab577",
   "metadata": {},
   "outputs": [
    {
     "name": "stdout",
     "output_type": "stream",
     "text": [
      "power:  10.0  MW\n"
     ]
    },
    {
     "data": {
      "image/png": "[encoded data removed]",
      "text/plain": [
       "<Figure size 640x480 with 2 Axes>"
      ]
     },
     "metadata": {},
     "output_type": "display_data"
    }
   ],
   "source": [
    "t_index =  int(Nt / 2); # Time index to visualize\n",
    "I_xy = jnp.real(field[:, :, t_index])**2 + jnp.imag(field[:, :, t_index])**2\n",
    "P_xy = jnp.sum(I_xy) * dx * dy;\n",
    "print(\"power: \", P_xy / 1e6, \" MW\");\n",
    "\n",
    "\n",
    "plt.figure()\n",
    "plt.imshow(I_xy, cmap='hot', interpolation='nearest');\n",
    "plt.colorbar();\n",
    "plt.title(f\"Intensity at t = {t_index}\");\n",
    "plt.xlabel(\"x\");    plt.ylabel(\"y\");\n",
    "plt.show();"
   ]
  },
  {
   "cell_type": "code",
   "execution_count": 9,
   "id": "26333d0c",
   "metadata": {},
   "outputs": [
    {
     "name": "stdout",
     "output_type": "stream",
     "text": [
      "beta0:  9040466.626446744\n"
     ]
    },
    {
     "data": {
      "text/plain": [
       "' args '"
      ]
     },
     "execution_count": 9,
     "metadata": {},
     "output_type": "execute_result"
    }
   ],
   "source": [
    "#############################################################################################\n",
    "''' Define remaining params: '''\n",
    "c = 2.998e8;\n",
    "beta0 = n_core * 2 * jnp.pi / lambda0;\n",
    "print(\"beta0: \", beta0);\n",
    "n_g = 1.468; # group index\n",
    "beta1 = n_g / c;\n",
    "beta2 = 22e-27; # 1.0; # Dispersion coefficient in s^2/m\n",
    "n2 = 2.22e-20; ''' 2.22e-20 m^2/W '''\n",
    "omega = None;\n",
    "\n",
    "pml_thickness = 40e-6;\n",
    "pml_Wmax = 1e12;\n",
    "''' args '''\n",
    "\n"
   ]
  },
  {
   "cell_type": "code",
   "execution_count": null,
   "id": "b2dec210",
   "metadata": {},
   "outputs": [
    {
     "name": "stdout",
     "output_type": "stream",
     "text": [
      "[0.         0.0002002  0.0004004  0.0006006  0.0008008  0.001001\n",
      " 0.0012012  0.0014014  0.0016016  0.0018018  0.002002   0.0022022\n",
      " 0.0024024  0.0026026  0.0028028  0.003003   0.0032032  0.0034034\n",
      " 0.0036036  0.0038038  0.004004   0.0042042  0.0044044  0.0046046\n",
      " 0.0048048  0.00500501 0.00520521 0.00540541 0.00560561 0.00580581\n",
      " 0.00600601 0.00620621 0.00640641 0.00660661 0.00680681 0.00700701\n",
      " 0.00720721 0.00740741 0.00760761 0.00780781 0.00800801 0.00820821\n",
      " 0.00840841 0.00860861 0.00880881 0.00900901 0.00920921 0.00940941\n",
      " 0.00960961 0.00980981 0.01001001 0.01021021 0.01041041 0.01061061\n",
      " 0.01081081 0.01101101 0.01121121 0.01141141 0.01161161 0.01181181\n",
      " 0.01201201 0.01221221 0.01241241 0.01261261 0.01281281 0.01301301\n",
      " 0.01321321 0.01341341 0.01361361 0.01381381 0.01401401 0.01421421\n",
      " 0.01441441 0.01461461 0.01481481 0.01501502 0.01521522 0.01541542\n",
      " 0.01561562 0.01581582 0.01601602 0.01621622 0.01641642 0.01661662\n",
      " 0.01681682 0.01701702 0.01721722 0.01741742 0.01761762 0.01781782\n",
      " 0.01801802 0.01821822 0.01841842 0.01861862 0.01881882 0.01901902\n",
      " 0.01921922 0.01941942 0.01961962 0.01981982 0.02002002 0.02022022\n",
      " 0.02042042 0.02062062 0.02082082 0.02102102 0.02122122 0.02142142\n",
      " 0.02162162 0.02182182 0.02202202 0.02222222 0.02242242 0.02262262\n",
      " 0.02282282 0.02302302 0.02322322 0.02342342 0.02362362 0.02382382\n",
      " 0.02402402 0.02422422 0.02442442 0.02462462 0.02482482 0.02502503\n",
      " 0.02522523 0.02542543 0.02562563 0.02582583 0.02602603 0.02622623\n",
      " 0.02642643 0.02662663 0.02682683 0.02702703 0.02722723 0.02742743\n",
      " 0.02762763 0.02782783 0.02802803 0.02822823 0.02842843 0.02862863\n",
      " 0.02882883 0.02902903 0.02922923 0.02942943 0.02962963 0.02982983\n",
      " 0.03003003 0.03023023 0.03043043 0.03063063 0.03083083 0.03103103\n",
      " 0.03123123 0.03143143 0.03163163 0.03183183 0.03203203 0.03223223\n",
      " 0.03243243 0.03263263 0.03283283 0.03303303 0.03323323 0.03343343\n",
      " 0.03363363 0.03383383 0.03403403 0.03423423 0.03443443 0.03463463\n",
      " 0.03483483 0.03503504 0.03523524 0.03543544 0.03563564 0.03583584\n",
      " 0.03603604 0.03623624 0.03643644 0.03663664 0.03683684 0.03703704\n",
      " 0.03723724 0.03743744 0.03763764 0.03783784 0.03803804 0.03823824\n",
      " 0.03843844 0.03863864 0.03883884 0.03903904 0.03923924 0.03943944\n",
      " 0.03963964 0.03983984 0.04004004 0.04024024 0.04044044 0.04064064\n",
      " 0.04084084 0.04104104 0.04124124 0.04144144 0.04164164 0.04184184\n",
      " 0.04204204 0.04224224 0.04244244 0.04264264 0.04284284 0.04304304\n",
      " 0.04324324 0.04344344 0.04364364 0.04384384 0.04404404 0.04424424\n",
      " 0.04444444 0.04464464 0.04484484 0.04504505 0.04524525 0.04544545\n",
      " 0.04564565 0.04584585 0.04604605 0.04624625 0.04644645 0.04664665\n",
      " 0.04684685 0.04704705 0.04724725 0.04744745 0.04764765 0.04784785\n",
      " 0.04804805 0.04824825 0.04844845 0.04864865 0.04884885 0.04904905\n",
      " 0.04924925 0.04944945 0.04964965 0.04984985 0.05005005 0.05025025\n",
      " 0.05045045 0.05065065 0.05085085 0.05105105 0.05125125 0.05145145\n",
      " 0.05165165 0.05185185 0.05205205 0.05225225 0.05245245 0.05265265\n",
      " 0.05285285 0.05305305 0.05325325 0.05345345 0.05365365 0.05385385\n",
      " 0.05405405 0.05425425 0.05445445 0.05465465 0.05485485 0.05505506\n",
      " 0.05525526 0.05545546 0.05565566 0.05585586 0.05605606 0.05625626\n",
      " 0.05645646 0.05665666 0.05685686 0.05705706 0.05725726 0.05745746\n",
      " 0.05765766 0.05785786 0.05805806 0.05825826 0.05845846 0.05865866\n",
      " 0.05885886 0.05905906 0.05925926 0.05945946 0.05965966 0.05985986\n",
      " 0.06006006 0.06026026 0.06046046 0.06066066 0.06086086 0.06106106\n",
      " 0.06126126 0.06146146 0.06166166 0.06186186 0.06206206 0.06226226\n",
      " 0.06246246 0.06266266 0.06286286 0.06306306 0.06326326 0.06346346\n",
      " 0.06366366 0.06386386 0.06406406 0.06426426 0.06446446 0.06466466\n",
      " 0.06486486 0.06506507 0.06526527 0.06546547 0.06566567 0.06586587\n",
      " 0.06606607 0.06626627 0.06646647 0.06666667 0.06686687 0.06706707\n",
      " 0.06726727 0.06746747 0.06766767 0.06786787 0.06806807 0.06826827\n",
      " 0.06846847 0.06866867 0.06886887 0.06906907 0.06926927 0.06946947\n",
      " 0.06966967 0.06986987 0.07007007 0.07027027 0.07047047 0.07067067\n",
      " 0.07087087 0.07107107 0.07127127 0.07147147 0.07167167 0.07187187\n",
      " 0.07207207 0.07227227 0.07247247 0.07267267 0.07287287 0.07307307\n",
      " 0.07327327 0.07347347 0.07367367 0.07387387 0.07407407 0.07427427\n",
      " 0.07447447 0.07467467 0.07487487 0.07507508 0.07527528 0.07547548\n",
      " 0.07567568 0.07587588 0.07607608 0.07627628 0.07647648 0.07667668\n",
      " 0.07687688 0.07707708 0.07727728 0.07747748 0.07767768 0.07787788\n",
      " 0.07807808 0.07827828 0.07847848 0.07867868 0.07887888 0.07907908\n",
      " 0.07927928 0.07947948 0.07967968 0.07987988 0.08008008 0.08028028\n",
      " 0.08048048 0.08068068 0.08088088 0.08108108 0.08128128 0.08148148\n",
      " 0.08168168 0.08188188 0.08208208 0.08228228 0.08248248 0.08268268\n",
      " 0.08288288 0.08308308 0.08328328 0.08348348 0.08368368 0.08388388\n",
      " 0.08408408 0.08428428 0.08448448 0.08468468 0.08488488 0.08508509\n",
      " 0.08528529 0.08548549 0.08568569 0.08588589 0.08608609 0.08628629\n",
      " 0.08648649 0.08668669 0.08688689 0.08708709 0.08728729 0.08748749\n",
      " 0.08768769 0.08788789 0.08808809 0.08828829 0.08848849 0.08868869\n",
      " 0.08888889 0.08908909 0.08928929 0.08948949 0.08968969 0.08988989\n",
      " 0.09009009 0.09029029 0.09049049 0.09069069 0.09089089 0.09109109\n",
      " 0.09129129 0.09149149 0.09169169 0.09189189 0.09209209 0.09229229\n",
      " 0.09249249 0.09269269 0.09289289 0.09309309 0.09329329 0.09349349\n",
      " 0.09369369 0.09389389 0.09409409 0.09429429 0.09449449 0.09469469\n",
      " 0.09489489 0.0950951  0.0952953  0.0954955  0.0956957  0.0958959\n",
      " 0.0960961  0.0962963  0.0964965  0.0966967  0.0968969  0.0970971\n",
      " 0.0972973  0.0974975  0.0976977  0.0978979  0.0980981  0.0982983\n",
      " 0.0984985  0.0986987  0.0988989  0.0990991  0.0992993  0.0994995\n",
      " 0.0996997  0.0998999  0.1001001  0.1003003  0.1005005  0.1007007\n",
      " 0.1009009  0.1011011  0.1013013  0.1015015  0.1017017  0.1019019\n",
      " 0.1021021  0.1023023  0.1025025  0.1027027  0.1029029  0.1031031\n",
      " 0.1033033  0.1035035  0.1037037  0.1039039  0.1041041  0.1043043\n",
      " 0.1045045  0.1047047  0.1049049  0.10510511 0.10530531 0.10550551\n",
      " 0.10570571 0.10590591 0.10610611 0.10630631 0.10650651 0.10670671\n",
      " 0.10690691 0.10710711 0.10730731 0.10750751 0.10770771 0.10790791\n",
      " 0.10810811 0.10830831 0.10850851 0.10870871 0.10890891 0.10910911\n",
      " 0.10930931 0.10950951 0.10970971 0.10990991 0.11011011 0.11031031\n",
      " 0.11051051 0.11071071 0.11091091 0.11111111 0.11131131 0.11151151\n",
      " 0.11171171 0.11191191 0.11211211 0.11231231 0.11251251 0.11271271\n",
      " 0.11291291 0.11311311 0.11331331 0.11351351 0.11371371 0.11391391\n",
      " 0.11411411 0.11431431 0.11451451 0.11471471 0.11491491 0.11511512\n",
      " 0.11531532 0.11551552 0.11571572 0.11591592 0.11611612 0.11631632\n",
      " 0.11651652 0.11671672 0.11691692 0.11711712 0.11731732 0.11751752\n",
      " 0.11771772 0.11791792 0.11811812 0.11831832 0.11851852 0.11871872\n",
      " 0.11891892 0.11911912 0.11931932 0.11951952 0.11971972 0.11991992\n",
      " 0.12012012 0.12032032 0.12052052 0.12072072 0.12092092 0.12112112\n",
      " 0.12132132 0.12152152 0.12172172 0.12192192 0.12212212 0.12232232\n",
      " 0.12252252 0.12272272 0.12292292 0.12312312 0.12332332 0.12352352\n",
      " 0.12372372 0.12392392 0.12412412 0.12432432 0.12452452 0.12472472\n",
      " 0.12492492 0.12512513 0.12532533 0.12552553 0.12572573 0.12592593\n",
      " 0.12612613 0.12632633 0.12652653 0.12672673 0.12692693 0.12712713\n",
      " 0.12732733 0.12752753 0.12772773 0.12792793 0.12812813 0.12832833\n",
      " 0.12852853 0.12872873 0.12892893 0.12912913 0.12932933 0.12952953\n",
      " 0.12972973 0.12992993 0.13013013 0.13033033 0.13053053 0.13073073\n",
      " 0.13093093 0.13113113 0.13133133 0.13153153 0.13173173 0.13193193\n",
      " 0.13213213 0.13233233 0.13253253 0.13273273 0.13293293 0.13313313\n",
      " 0.13333333 0.13353353 0.13373373 0.13393393 0.13413413 0.13433433\n",
      " 0.13453453 0.13473473 0.13493493 0.13513514 0.13533534 0.13553554\n",
      " 0.13573574 0.13593594 0.13613614 0.13633634 0.13653654 0.13673674\n",
      " 0.13693694 0.13713714 0.13733734 0.13753754 0.13773774 0.13793794\n",
      " 0.13813814 0.13833834 0.13853854 0.13873874 0.13893894 0.13913914\n",
      " 0.13933934 0.13953954 0.13973974 0.13993994 0.14014014 0.14034034\n",
      " 0.14054054 0.14074074 0.14094094 0.14114114 0.14134134 0.14154154\n",
      " 0.14174174 0.14194194 0.14214214 0.14234234 0.14254254 0.14274274\n",
      " 0.14294294 0.14314314 0.14334334 0.14354354 0.14374374 0.14394394\n",
      " 0.14414414 0.14434434 0.14454454 0.14474474 0.14494494 0.14514515\n",
      " 0.14534535 0.14554555 0.14574575 0.14594595 0.14614615 0.14634635\n",
      " 0.14654655 0.14674675 0.14694695 0.14714715 0.14734735 0.14754755\n",
      " 0.14774775 0.14794795 0.14814815 0.14834835 0.14854855 0.14874875\n",
      " 0.14894895 0.14914915 0.14934935 0.14954955 0.14974975 0.14994995\n",
      " 0.15015015 0.15035035 0.15055055 0.15075075 0.15095095 0.15115115\n",
      " 0.15135135 0.15155155 0.15175175 0.15195195 0.15215215 0.15235235\n",
      " 0.15255255 0.15275275 0.15295295 0.15315315 0.15335335 0.15355355\n",
      " 0.15375375 0.15395395 0.15415415 0.15435435 0.15455455 0.15475475\n",
      " 0.15495495 0.15515516 0.15535536 0.15555556 0.15575576 0.15595596\n",
      " 0.15615616 0.15635636 0.15655656 0.15675676 0.15695696 0.15715716\n",
      " 0.15735736 0.15755756 0.15775776 0.15795796 0.15815816 0.15835836\n",
      " 0.15855856 0.15875876 0.15895896 0.15915916 0.15935936 0.15955956\n",
      " 0.15975976 0.15995996 0.16016016 0.16036036 0.16056056 0.16076076\n",
      " 0.16096096 0.16116116 0.16136136 0.16156156 0.16176176 0.16196196\n",
      " 0.16216216 0.16236236 0.16256256 0.16276276 0.16296296 0.16316316\n",
      " 0.16336336 0.16356356 0.16376376 0.16396396 0.16416416 0.16436436\n",
      " 0.16456456 0.16476476 0.16496496 0.16516517 0.16536537 0.16556557\n",
      " 0.16576577 0.16596597 0.16616617 0.16636637 0.16656657 0.16676677\n",
      " 0.16696697 0.16716717 0.16736737 0.16756757 0.16776777 0.16796797\n",
      " 0.16816817 0.16836837 0.16856857 0.16876877 0.16896897 0.16916917\n",
      " 0.16936937 0.16956957 0.16976977 0.16996997 0.17017017 0.17037037\n",
      " 0.17057057 0.17077077 0.17097097 0.17117117 0.17137137 0.17157157\n",
      " 0.17177177 0.17197197 0.17217217 0.17237237 0.17257257 0.17277277\n",
      " 0.17297297 0.17317317 0.17337337 0.17357357 0.17377377 0.17397397\n",
      " 0.17417417 0.17437437 0.17457457 0.17477477 0.17497497 0.17517518\n",
      " 0.17537538 0.17557558 0.17577578 0.17597598 0.17617618 0.17637638\n",
      " 0.17657658 0.17677678 0.17697698 0.17717718 0.17737738 0.17757758\n",
      " 0.17777778 0.17797798 0.17817818 0.17837838 0.17857858 0.17877878\n",
      " 0.17897898 0.17917918 0.17937938 0.17957958 0.17977978 0.17997998\n",
      " 0.18018018 0.18038038 0.18058058 0.18078078 0.18098098 0.18118118\n",
      " 0.18138138 0.18158158 0.18178178 0.18198198 0.18218218 0.18238238\n",
      " 0.18258258 0.18278278 0.18298298 0.18318318 0.18338338 0.18358358\n",
      " 0.18378378 0.18398398 0.18418418 0.18438438 0.18458458 0.18478478\n",
      " 0.18498498 0.18518519 0.18538539 0.18558559 0.18578579 0.18598599\n",
      " 0.18618619 0.18638639 0.18658659 0.18678679 0.18698699 0.18718719\n",
      " 0.18738739 0.18758759 0.18778779 0.18798799 0.18818819 0.18838839\n",
      " 0.18858859 0.18878879 0.18898899 0.18918919 0.18938939 0.18958959\n",
      " 0.18978979 0.18998999 0.19019019 0.19039039 0.19059059 0.19079079\n",
      " 0.19099099 0.19119119 0.19139139 0.19159159 0.19179179 0.19199199\n",
      " 0.19219219 0.19239239 0.19259259 0.19279279 0.19299299 0.19319319\n",
      " 0.19339339 0.19359359 0.19379379 0.19399399 0.19419419 0.19439439\n",
      " 0.19459459 0.19479479 0.19499499 0.1951952  0.1953954  0.1955956\n",
      " 0.1957958  0.195996   0.1961962  0.1963964  0.1965966  0.1967968\n",
      " 0.196997   0.1971972  0.1973974  0.1975976  0.1977978  0.197998\n",
      " 0.1981982  0.1983984  0.1985986  0.1987988  0.198999   0.1991992\n",
      " 0.1993994  0.1995996  0.1997998  0.2       ]\n",
      "used     : 0.005777408 GB\n",
      "peak     : 0.007932416 GB\n",
      "total    : 0.0 GB\n",
      "largest free block: 0.0 GB\n"
     ]
    }
   ],
   "source": [
    "# override from previous cells:\n",
    "Lz = 20e-2; # Length of propagation in z\n",
    "save_at = jnp.linspace(0, Lz, 1000, endpoint=True); # save at these positions in z\n",
    "print(save_at)\n",
    "n2 = 5e-21\n",
    "\n",
    "##########\n",
    "args = {\"Lx\" : Lx, \"Ly\": Ly, \"Lz\": Lz, \"Lt\": Lt,   # spatiotemporal dimensions\n",
    "        \"Nx\": Nx, \"Ny\": Ny, \"Nt\": Nt,              # spatial and temporal grid\n",
    "        \"n_xyomega\": n_xyomega, \"n2\": n2, \"nref\": n_clad, # potential params\n",
    "        \"beta0\": beta0, \"beta1\" : beta1,       # propagation params\n",
    "        \"beta2\": beta2, \"lambda0\": lambda0,    # propagation params\n",
    "        \"save_at\": save_at,                   # array of z positions to save at\n",
    "        \"deltaZ\": 1e-6,                       # linear step size\n",
    "        \"deltaZ_NL\":1e-5,                      # nonlinear step size\n",
    "        \"saturation_intensity\": 5e-5,          #\n",
    "        \"gain_coeff\": 0.0,\n",
    "        \"gain_fwhm\": 0.0,\n",
    "        \"t1\": 12.2e-15, \"t2\": 32e-15,       \n",
    "        \"pml_thickness\": pml_thickness, \"pml_Wmax\": 10.0e12, # pml_Wmax,\n",
    "        \"fr\": 0.0, \"sw\": 0                   # raman fraction (0.0 for no raman) and \n",
    "       };\n",
    "\n",
    "stats = dev.memory_stats() \n",
    "print(\"used     :\", gb(stats.get(\"bytes_in_use\", 0)), \"GB\")\n",
    "print(\"peak     :\", gb(stats.get(\"peak_bytes_in_use\", 0)), \"GB\")\n",
    "print(\"total    :\", gb(stats.get(\"total_device_memory\", 0)), \"GB\")\n",
    "print(\"largest free block:\", gb(stats.get(\"largest_free_block_bytes\", 0)), \"GB\")"
   ]
  },
  {
   "cell_type": "code",
   "execution_count": 11,
   "id": "c400c59e",
   "metadata": {},
   "outputs": [],
   "source": [
    "results = GNLSE3D_propagate(args, field); "
   ]
  },
  {
   "cell_type": "code",
   "execution_count": 15,
   "id": "2f76a826",
   "metadata": {},
   "outputs": [
    {
     "name": "stdout",
     "output_type": "stream",
     "text": [
      "used     : 2.103978496 GB\n",
      "peak     : 3.159655168 GB\n",
      "total    : 0.0 GB\n",
      "largest free block: 0.0 GB\n",
      "(256, 256, 1, 1000)\n",
      "power:  10.00000000028606  MW\n"
     ]
    },
    {
     "data": {
      "image/png": "[encoded data removed]",
      "text/plain": [
       "<Figure size 640x480 with 2 Axes>"
      ]
     },
     "metadata": {},
     "output_type": "display_data"
    }
   ],
   "source": [
    "stats = dev.memory_stats() \n",
    "print(\"used     :\", gb(stats.get(\"bytes_in_use\", 0)), \"GB\")\n",
    "print(\"peak     :\", gb(stats.get(\"peak_bytes_in_use\", 0)), \"GB\")\n",
    "print(\"total    :\", gb(stats.get(\"total_device_memory\", 0)), \"GB\")\n",
    "print(\"largest free block:\", gb(stats.get(\"largest_free_block_bytes\", 0)), \"GB\")\n",
    "\n",
    "slot = -1; # Last save slot\n",
    "time = 0; # Time slot to visualize\n",
    "print(results[\"field\"].shape);\n",
    "\n",
    "res_field = results[\"field\"][:, :, time, slot];\n",
    "\n",
    "I_xy = jnp.real(res_field)**2 + jnp.imag(res_field)**2\n",
    "P_xy = jnp.sum(I_xy) * dx * dy;\n",
    "print(\"power: \", P_xy * 1e-6 , \" MW\");\n",
    "\n",
    "plt.figure();\n",
    "plt.imshow(I_xy, cmap='hot', interpolation='nearest');\n",
    "plt.colorbar();\n",
    "plt.title(f\"Intensity: t ={time * Lt/Nt}, z= {round(save_at[slot], 3)*100} cm, power = {round(P_xy * 1e-6, 2)} MW\");\n",
    "plt.xlabel(\"x\");    plt.ylabel(\"y\");\n",
    "plt.show();"
   ]
  },
  {
   "cell_type": "code",
   "execution_count": null,
   "id": "1639976c",
   "metadata": {},
   "outputs": [
    {
     "name": "stdout",
     "output_type": "stream",
     "text": [
      "Saved animation to: xy_z_CW_beam_cleaning.gif\n"
     ]
    }
   ],
   "source": [
    "# Create an animation of the field intensity over time\n",
    "gif_path = make_xy_z_animation(results[\"field\"], t_index=-1, quantity='intensity', norm='global',\n",
    "                               fps=50, filename='xy_z_CW_beam_cleaning.gif')\n",
    "print(\"Saved animation to:\", gif_path)\n"
   ]
  },
  {
   "cell_type": "code",
   "execution_count": 14,
   "id": "789876da",
   "metadata": {},
   "outputs": [
    {
     "name": "stdout",
     "output_type": "stream",
     "text": [
      "Relative std of P(t): 0.0\n"
     ]
    }
   ],
   "source": [
    "# P(t) = ∬ |E(x,y,t,z=Lz)|^2 dx dy\n",
    "P_out = np.sum(np.abs(np.asarray(results[\"field\"][..., -1]))**2, axis=(0,1)) * dx * dy\n",
    "rel_std = P_out.std() / P_out.mean()\n",
    "print(\"Relative std of P(t):\", rel_std)\n"
   ]
  },
  {
   "cell_type": "code",
   "execution_count": null,
   "id": "8eeaf386",
   "metadata": {},
   "outputs": [],
   "source": []
  }
 ],
 "metadata": {
  "kernelspec": {
   "display_name": "Python 3",
   "language": "python",
   "name": "python3"
  },
  "language_info": {
   "codemirror_mode": {
    "name": "ipython",
    "version": 3
   },
   "file_extension": ".py",
   "mimetype": "text/x-python",
   "name": "python",
   "nbconvert_exporter": "python",
   "pygments_lexer": "ipython3",
   "version": "3.12.3"
  }
 },
 "nbformat": 4,
 "nbformat_minor": 5
}
