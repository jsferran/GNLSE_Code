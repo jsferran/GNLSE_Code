{
 "cells": [
  {
   "cell_type": "code",
   "execution_count": 1,
   "id": "5e2cd404",
   "metadata": {},
   "outputs": [
    {
     "name": "stdout",
     "output_type": "stream",
     "text": [
      "None\n",
      "true\n",
      "[CudaDevice(id=0)]\n",
      "used     : 0.0 GB\n",
      "peak     : 0.0 GB\n",
      "total    : 0.0 GB\n",
      "largest free block: 0.0 GB\n"
     ]
    },
    {
     "name": "stderr",
     "output_type": "stream",
     "text": [
      "/home/josalferr/.local/lib/python3.12/site-packages/matplotlib/projections/__init__.py:63: UserWarning: Unable to import Axes3D. This may be due to multiple versions of Matplotlib being installed (e.g. as a system package and as a pip package). As a result, the 3D projection is not available.\n",
      "  warnings.warn(\"Unable to import Axes3D. This may be due to multiple versions of \"\n"
     ]
    }
   ],
   "source": [
    "import os\n",
    "os.environ[\"XLA_PYTHON_CLIENT_PREALLOCATE\"] = \"true\";\n",
    "os.environ[\"XLA_PYTHON_CLIENT_MEM_FRACTION\"]=\"1.00\";\n",
    "#os.environ[\"TF_GPU_ALLOCATOR\"]=\"cuda_malloc_async\";\n",
    "print(os.environ.get(\"TF_GPU_ALLOCATOR\"))\n",
    "print(os.environ.get(\"XLA_PYTHON_CLIENT_PREALLOCATE\"))\n",
    "import jax\n",
    "import jax.numpy as jnp;\n",
    "from types import SimpleNamespace;\n",
    "from pathlib import Path\n",
    "import numpy as np\n",
    "from functools import partial\n",
    "from gnlse_medium import *\n",
    "from gnlse_source import *\n",
    "from gnlse_solver import *\n",
    "from gnlse_visualizations import *\n",
    "import matplotlib.pyplot as plt\n",
    "import gc; \n",
    "gc.collect();\n",
    "\n",
    "jax.config.update(\"jax_enable_x64\", True);\n",
    "print(jax.devices());\n",
    "jr64 = 'float64';\n",
    "jc128 = 'complex128';\n",
    "\n",
    "dev = jax.devices()[0]\n",
    "stats = dev.memory_stats() \n",
    "def gb(x): return x / 1e9\n",
    "\n",
    "print(\"used     :\", gb(stats.get(\"bytes_in_use\", 0)), \"GB\")\n",
    "print(\"peak     :\", gb(stats.get(\"peak_bytes_in_use\", 0)), \"GB\")\n",
    "print(\"total    :\", gb(stats.get(\"total_device_memory\", 0)), \"GB\")\n",
    "print(\"largest free block:\", gb(stats.get(\"largest_free_block_bytes\", 0)), \"GB\")"
   ]
  },
  {
   "cell_type": "code",
   "execution_count": 2,
   "id": "b6d70e42",
   "metadata": {},
   "outputs": [
    {
     "name": "stdout",
     "output_type": "stream",
     "text": [
      "used     : 0.0 GB\n",
      "peak     : 0.0 GB\n",
      "total    : 0.0 GB\n",
      "largest free block: 0.0 GB\n",
      "used     : 0.0 GB\n",
      "peak     : 0.0 GB\n",
      "total    : 0.0 GB\n",
      "largest free block: 0.0 GB\n"
     ]
    }
   ],
   "source": [
    "stats = dev.memory_stats() \n",
    "print(\"used     :\", gb(stats.get(\"bytes_in_use\", 0)), \"GB\")\n",
    "print(\"peak     :\", gb(stats.get(\"peak_bytes_in_use\", 0)), \"GB\")\n",
    "print(\"total    :\", gb(stats.get(\"total_device_memory\", 0)), \"GB\")\n",
    "print(\"largest free block:\", gb(stats.get(\"largest_free_block_bytes\", 0)), \"GB\")\n",
    "\n",
    "\n",
    "jax.clear_caches()\n",
    "\n",
    "stats = dev.memory_stats() \n",
    "print(\"used     :\", gb(stats.get(\"bytes_in_use\", 0)), \"GB\")\n",
    "print(\"peak     :\", gb(stats.get(\"peak_bytes_in_use\", 0)), \"GB\")\n",
    "print(\"total    :\", gb(stats.get(\"total_device_memory\", 0)), \"GB\")\n",
    "print(\"largest free block:\", gb(stats.get(\"largest_free_block_bytes\", 0)), \"GB\")"
   ]
  },
  {
   "cell_type": "code",
   "execution_count": 3,
   "id": "d7c77baf",
   "metadata": {},
   "outputs": [],
   "source": [
    "#########################################################################################\n",
    "'''Spatio-temporal params: '''\n",
    "\n",
    "Nx = Ny = 256;\n",
    "Lx = Ly = 200e-6;\n",
    "Lz = 1e-2;\n",
    "Lt = 10e-12; # Length of time in seconds\n",
    "Nt = 256; # Number of time steps\n",
    "dx = Lx/Nx;\n",
    "dy = Ly/Ny;\n",
    "\n",
    "\n",
    "X, Y = make_space(Lx, Nx, Ly, Ny);"
   ]
  },
  {
   "cell_type": "code",
   "execution_count": 4,
   "id": "8d5d6b85",
   "metadata": {},
   "outputs": [
    {
     "name": "stdout",
     "output_type": "stream",
     "text": [
      "n_clad:  1.468442712535971\n"
     ]
    }
   ],
   "source": [
    "#########################################################################################\n",
    "''' Refractive index profile (GRIN in this example): '''\n",
    "\n",
    "n_core = 1.482; #n_clad = 1.451; ''' core and cladding index '''\n",
    "NA = 0.200; # numerical aperture\n",
    "n_clad = np.sqrt(n_core**2 - NA**2); # cladding index from NA\n",
    "print(\"n_clad: \", n_clad)\n",
    "r_core = 50e-6; ''' core radius '''\n",
    "alpha = 2.0; ''' Index profile exponent (alpha = 2 for parabolic GRIN) '''\n",
    "\n",
    "#nxy = make_supergauss_index(X, Y, n_core = n_core, n_clad = n_clad, r_core = r_core, m =20);\n",
    "nxy = make_polynomial_n(X, Y, n_core = n_core, n_clad = n_clad, r_core = r_core, alpha = alpha);\n",
    "n_xyomega = jnp.tile(nxy[:,:,None], (1,1 , Nt));"
   ]
  },
  {
   "cell_type": "code",
   "execution_count": 5,
   "id": "7774f3aa",
   "metadata": {},
   "outputs": [
    {
     "data": {
      "text/plain": [
       "' Comment out when folder populated '"
      ]
     },
     "execution_count": 5,
     "metadata": {},
     "output_type": "execute_result"
    }
   ],
   "source": [
    "###########################################################################################\n",
    "''' Solve for modes; comment outR,R if folder is already populated:\n",
    "(Note: Modes specific to particular Lx, Nx, Ly, Ny -> X, Y grid!):\n",
    "(Note:  n_ref is usually the core index, n_core): '''\n",
    "\n",
    "lambda0 = 1030e-9; ''' 1030 nm '''\n",
    "n_modes = 200;\n",
    "folder = Path(\"GRIN_modes\"); \n",
    "\n",
    "''' Comment out when folder populated '''\n",
    "#solve_modes(n_xy=nxy, n_ref = n_core, x = X[:, 0], y = Y[0, :], lambda0 = lambda0,\n",
    "#            n_modes = n_modes, folder = folder, maxiter = 5000, tol = 1e-9);"
   ]
  },
  {
   "cell_type": "code",
   "execution_count": 6,
   "id": "0b0ecb66",
   "metadata": {},
   "outputs": [],
   "source": [
    "############################################################################################\n",
    "''' Build a field from the discovered modes: '''\n",
    "\n",
    "weights_init = {42: 2.0 + 1j/2, 99: 1.0 + 1.6j/2} #, 100: 1.0 + 1j/2, 101: 1.0 + 1j/2, 102: 1.0 + 1j/2,};\n",
    "field_unscaled, indices, coeffs = make_source_from_files(folder=\"GRIN_modes\", heading=\"mode\", file_format = \"npz\", weights = weights_init);\n",
    "E_xy, weights = norm_scale_field_weights(field_unscaled, indices, coeffs, power = 1.0, dx = dx, dy = dy);"
   ]
  },
  {
   "cell_type": "code",
   "execution_count": 7,
   "id": "eba49fe1",
   "metadata": {},
   "outputs": [
    {
     "name": "stdout",
     "output_type": "stream",
     "text": [
      "[ 1000.           +0.j          -689.54054474 +724.24708295j\n",
      "   -49.06767433 -998.79545621j   757.20884651 +653.17284295j\n",
      "  -995.18472667  +98.01714033j   615.23159058 -788.34642763j\n",
      "   146.73047446 +989.17650996j  -817.58481315 -575.80819142j\n",
      "   980.7852804  -195.09032202j  -534.99761989 +844.85356525j\n",
      "  -242.9801799  -970.03125319j   870.08699111 +492.89819223j\n",
      "  -956.94033573 +290.28467725j   449.61132965 -893.2243012j\n",
      "   336.88985339 +941.54406518j  -914.2097557  -405.241314j\n",
      "   923.87953251 -382.68343237j  -359.89503653 +932.99279883j\n",
      "  -427.55509343 -903.98929312j   949.52818059 +313.6817404j\n",
      "  -881.92126435 +471.39673683j   266.71275747 -963.7760658j\n",
      "   514.10274419 +857.72861j     -975.70213004 -219.10124016j\n",
      "   831.4696123  -555.57023302j  -170.96188876 +985.27764239j\n",
      "  -595.69930449 -803.20753148j   992.4795346  +122.4106752j\n",
      "  -773.01045336 +634.39328416j    73.5645636  -997.29045668j\n",
      "   671.55895485 +740.95112535j  -999.6988187   -24.54122852j\n",
      "   707.10678119 -707.10678119j    24.54122852 +999.6988187j\n",
      "  -740.95112535 -671.55895485j   997.29045668  -73.5645636j\n",
      "  -634.39328416 +773.01045336j  -122.4106752  -992.4795346j\n",
      "   803.20753148 +595.69930449j  -985.27764239 +170.96188876j\n",
      "   555.57023302 -831.4696123j    219.10124016 +975.70213004j\n",
      "  -857.72861    -514.10274419j   963.7760658  -266.71275747j\n",
      "  -471.39673683 +881.92126435j  -313.6817404  -949.52818059j\n",
      "   903.98929312 +427.55509343j  -932.99279883 +359.89503653j\n",
      "   382.68343237 -923.87953251j   405.241314   +914.2097557j\n",
      "  -941.54406518 -336.88985339j   893.2243012  -449.61132965j\n",
      "  -290.28467725 +956.94033573j  -492.89819223 -870.08699111j\n",
      "   970.03125319 +242.9801799j   -844.85356525 +534.99761989j\n",
      "   195.09032202 -980.7852804j    575.80819142 +817.58481315j\n",
      "  -989.17650996 -146.73047446j   788.34642763 -615.23159058j\n",
      "   -98.01714033 +995.18472667j  -653.17284295 -757.20884651j\n",
      "   998.79545621  +49.06767433j  -724.24708295 +689.54054474j\n",
      "     0.        -1000.j           724.24708295 +689.54054474j\n",
      "  -998.79545621  +49.06767433j   653.17284295 -757.20884651j\n",
      "    98.01714033 +995.18472667j  -788.34642763 -615.23159058j\n",
      "   989.17650996 -146.73047446j  -575.80819142 +817.58481315j\n",
      "  -195.09032202 -980.7852804j    844.85356525 +534.99761989j\n",
      "  -970.03125319 +242.9801799j    492.89819223 -870.08699111j\n",
      "   290.28467725 +956.94033573j  -893.2243012  -449.61132965j\n",
      "   941.54406518 -336.88985339j  -405.241314   +914.2097557j\n",
      "  -382.68343237 -923.87953251j   932.99279883 +359.89503653j\n",
      "  -903.98929312 +427.55509343j   313.6817404  -949.52818059j\n",
      "   471.39673683 +881.92126435j  -963.7760658  -266.71275747j\n",
      "   857.72861    -514.10274419j  -219.10124016 +975.70213004j\n",
      "  -555.57023302 -831.4696123j    985.27764239 +170.96188876j\n",
      "  -803.20753148 +595.69930449j   122.4106752  -992.4795346j\n",
      "   634.39328416 +773.01045336j  -997.29045668  -73.5645636j\n",
      "   740.95112535 -671.55895485j   -24.54122852 +999.6988187j\n",
      "  -707.10678119 -707.10678119j   999.6988187   -24.54122852j\n",
      "  -671.55895485 +740.95112535j   -73.5645636  -997.29045668j\n",
      "   773.01045336 +634.39328416j  -992.4795346  +122.4106752j\n",
      "   595.69930449 -803.20753148j   170.96188876 +985.27764239j\n",
      "  -831.4696123  -555.57023302j   975.70213004 -219.10124016j\n",
      "  -514.10274419 +857.72861j     -266.71275747 -963.7760658j\n",
      "   881.92126435 +471.39673683j  -949.52818059 +313.6817404j\n",
      "   427.55509343 -903.98929312j   359.89503653 +932.99279883j\n",
      "  -923.87953251 -382.68343237j   914.2097557  -405.241314j\n",
      "  -336.88985339 +941.54406518j  -449.61132965 -893.2243012j\n",
      "   956.94033573 +290.28467725j  -870.08699111 +492.89819223j\n",
      "   242.9801799  -970.03125319j   534.99761989 +844.85356525j\n",
      "  -980.7852804  -195.09032202j   817.58481315 -575.80819142j\n",
      "  -146.73047446 +989.17650996j  -615.23159058 -788.34642763j\n",
      "   995.18472667  +98.01714033j  -757.20884651 +653.17284295j\n",
      "    49.06767433 -998.79545621j   689.54054474 +724.24708295j\n",
      " -1000.           +0.j           689.54054474 -724.24708295j\n",
      "    49.06767433 +998.79545621j  -757.20884651 -653.17284295j\n",
      "   995.18472667  -98.01714033j  -615.23159058 +788.34642763j\n",
      "  -146.73047446 -989.17650996j   817.58481315 +575.80819142j\n",
      "  -980.7852804  +195.09032202j   534.99761989 -844.85356525j\n",
      "   242.9801799  +970.03125319j  -870.08699111 -492.89819223j\n",
      "   956.94033573 -290.28467725j  -449.61132965 +893.2243012j\n",
      "  -336.88985339 -941.54406518j   914.2097557  +405.241314j\n",
      "  -923.87953251 +382.68343237j   359.89503653 -932.99279883j\n",
      "   427.55509343 +903.98929312j  -949.52818059 -313.6817404j\n",
      "   881.92126435 -471.39673683j  -266.71275747 +963.7760658j\n",
      "  -514.10274419 -857.72861j      975.70213004 +219.10124016j\n",
      "  -831.4696123  +555.57023302j   170.96188876 -985.27764239j\n",
      "   595.69930449 +803.20753148j  -992.4795346  -122.4106752j\n",
      "   773.01045336 -634.39328416j   -73.5645636  +997.29045668j\n",
      "  -671.55895485 -740.95112535j   999.6988187   +24.54122852j\n",
      "  -707.10678119 +707.10678119j   -24.54122852 -999.6988187j\n",
      "   740.95112535 +671.55895485j  -997.29045668  +73.5645636j\n",
      "   634.39328416 -773.01045336j   122.4106752  +992.4795346j\n",
      "  -803.20753148 -595.69930449j   985.27764239 -170.96188876j\n",
      "  -555.57023302 +831.4696123j   -219.10124016 -975.70213004j\n",
      "   857.72861    +514.10274419j  -963.7760658  +266.71275747j\n",
      "   471.39673683 -881.92126435j   313.6817404  +949.52818059j\n",
      "  -903.98929312 -427.55509343j   932.99279883 -359.89503653j\n",
      "  -382.68343237 +923.87953251j  -405.241314   -914.2097557j\n",
      "   941.54406518 +336.88985339j  -893.2243012  +449.61132965j\n",
      "   290.28467725 -956.94033573j   492.89819223 +870.08699111j\n",
      "  -970.03125319 -242.9801799j    844.85356525 -534.99761989j\n",
      "  -195.09032202 +980.7852804j   -575.80819142 -817.58481315j\n",
      "   989.17650996 +146.73047446j  -788.34642763 +615.23159058j\n",
      "    98.01714033 -995.18472667j   653.17284295 +757.20884651j\n",
      "  -998.79545621  -49.06767433j   724.24708295 -689.54054474j\n",
      "     0.        +1000.j          -724.24708295 -689.54054474j\n",
      "   998.79545621  -49.06767433j  -653.17284295 +757.20884651j\n",
      "   -98.01714033 -995.18472667j   788.34642763 +615.23159058j\n",
      "  -989.17650996 +146.73047446j   575.80819142 -817.58481315j\n",
      "   195.09032202 +980.7852804j   -844.85356525 -534.99761989j\n",
      "   970.03125319 -242.9801799j   -492.89819223 +870.08699111j\n",
      "  -290.28467725 -956.94033573j   893.2243012  +449.61132965j\n",
      "  -941.54406518 +336.88985339j   405.241314   -914.2097557j\n",
      "   382.68343237 +923.87953251j  -932.99279883 -359.89503653j\n",
      "   903.98929312 -427.55509343j  -313.6817404  +949.52818059j\n",
      "  -471.39673683 -881.92126435j   963.7760658  +266.71275747j\n",
      "  -857.72861    +514.10274419j   219.10124016 -975.70213004j\n",
      "   555.57023302 +831.4696123j   -985.27764239 -170.96188876j\n",
      "   803.20753148 -595.69930449j  -122.4106752  +992.4795346j\n",
      "  -634.39328416 -773.01045336j   997.29045668  +73.5645636j\n",
      "  -740.95112535 +671.55895485j    24.54122852 -999.6988187j\n",
      "   707.10678119 +707.10678119j  -999.6988187   +24.54122852j\n",
      "   671.55895485 -740.95112535j    73.5645636  +997.29045668j\n",
      "  -773.01045336 -634.39328416j   992.4795346  -122.4106752j\n",
      "  -595.69930449 +803.20753148j  -170.96188876 -985.27764239j\n",
      "   831.4696123  +555.57023302j  -975.70213004 +219.10124016j\n",
      "   514.10274419 -857.72861j      266.71275747 +963.7760658j\n",
      "  -881.92126435 -471.39673683j   949.52818059 -313.6817404j\n",
      "  -427.55509343 +903.98929312j  -359.89503653 -932.99279883j\n",
      "   923.87953251 +382.68343237j  -914.2097557  +405.241314j\n",
      "   336.88985339 -941.54406518j   449.61132965 +893.2243012j\n",
      "  -956.94033573 -290.28467725j   870.08699111 -492.89819223j\n",
      "  -242.9801799  +970.03125319j  -534.99761989 -844.85356525j\n",
      "   980.7852804  +195.09032202j  -817.58481315 +575.80819142j\n",
      "   146.73047446 -989.17650996j   615.23159058 +788.34642763j\n",
      "  -995.18472667  -98.01714033j   757.20884651 -653.17284295j\n",
      "   -49.06767433 +998.79545621j  -689.54054474 -724.24708295j]\n",
      "(256, 256, 256)\n"
     ]
    },
    {
     "data": {
      "image/png": "[encoded data removed]",
      "text/plain": [
       "<Figure size 640x480 with 1 Axes>"
      ]
     },
     "metadata": {},
     "output_type": "display_data"
    }
   ],
   "source": [
    "############################################################################################\n",
    "power = 1e6; ''' 20 MW '''\n",
    "\n",
    "''' Define temporal profile '''\n",
    "phis = 0.0;\n",
    "t0 = 0.0;\n",
    "fwhm = 120e-15; ''' 120 fs '''\n",
    "phase = 0.0;\n",
    "omega0 = 2 * jnp.pi / lambda0; ''' Carrier frequency in rad/s '''\n",
    "T = jnp.linspace(-Lt/2, Lt/2, Nt); # time grid`\n",
    "\n",
    "#E_t = cw_temp_profile(jnp.array(lambda0, dtype = jnp.float64), phis, Lt=Lt, Nt=Nt);\n",
    "#E_t = gaussian_pulse_profile(t0, fwhm, Lt, Nt, carrier_omega=omega0, phase=phase)\n",
    "lambdas = jnp.array([1030e-9])\n",
    "phis    = jnp.array([0.0])\n",
    "E_t_cw  = cw_temp_profile_freq(lambdas, phis, Lt, Nt)\n",
    "# Gaussian: 150 fs FWHM, centered at t0=0, with a carrier shift\n",
    "#E_t_gauss = gaussian_pulse_profile_freq(t0=0.0, fwhm=150e-15, Lt=Lt, Nt=Nt, carrier_omega=0.0, phase=0.0)\n",
    "\n",
    "E_t = jnp.sqrt(power) * E_t_cw;\n",
    "print(E_t)\n",
    "\n",
    "plt.figure();\n",
    "plt.plot(T * 1e15, np.abs(E_t)**2 / 1e6);\n",
    "plt.xlabel(\"Time (fs)\"); plt.ylabel(\"Power(t) (MW)\");\n",
    "plt.title(\"Temporal profile\");\n",
    "\n",
    "field = combine_spatial_temporal(E_xy, E_t) ;\n",
    "print(jnp.shape(field));"
   ]
  },
  {
   "cell_type": "code",
   "execution_count": 8,
   "id": "b75ab577",
   "metadata": {},
   "outputs": [
    {
     "name": "stdout",
     "output_type": "stream",
     "text": [
      "power:  1.0  MW\n"
     ]
    },
    {
     "data": {
      "image/png": "[encoded data removed]",
      "text/plain": [
       "<Figure size 640x480 with 2 Axes>"
      ]
     },
     "metadata": {},
     "output_type": "display_data"
    }
   ],
   "source": [
    "t_index =  int(Nt / 2); # Time index to visualize\n",
    "I_xy = jnp.real(field[:, :, t_index])**2 + jnp.imag(field[:, :, t_index])**2\n",
    "P_xy = jnp.sum(I_xy) * dx * dy;\n",
    "print(\"power: \", P_xy / 1e6, \" MW\");\n",
    "\n",
    "\n",
    "plt.figure()\n",
    "plt.imshow(I_xy, cmap='hot', interpolation='nearest');\n",
    "plt.colorbar();\n",
    "plt.title(f\"Intensity at t = {t_index}\");\n",
    "plt.xlabel(\"x\");    plt.ylabel(\"y\");\n",
    "plt.show();"
   ]
  },
  {
   "cell_type": "code",
   "execution_count": 9,
   "id": "26333d0c",
   "metadata": {},
   "outputs": [
    {
     "name": "stdout",
     "output_type": "stream",
     "text": [
      "beta0:  9040466.626446744\n"
     ]
    },
    {
     "data": {
      "text/plain": [
       "' args '"
      ]
     },
     "execution_count": 9,
     "metadata": {},
     "output_type": "execute_result"
    }
   ],
   "source": [
    "#############################################################################################\n",
    "''' Define remaining params: '''\n",
    "c = 2.998e8;\n",
    "beta0 = n_core * 2 * jnp.pi / lambda0;\n",
    "print(\"beta0: \", beta0);\n",
    "n_g = 1.468; # group index\n",
    "beta1 = n_g / c;\n",
    "beta2 = 22e-27; # 1.0; # Dispersion coefficient in s^2/m\n",
    "n2 = 2.22e-20; ''' 2.22e-20 m^2/W '''\n",
    "omega = None;\n",
    "\n",
    "pml_thickness = 40e-6;\n",
    "pml_Wmax = 1e12;\n",
    "''' args '''\n",
    "\n"
   ]
  },
  {
   "cell_type": "code",
   "execution_count": 10,
   "id": "b2dec210",
   "metadata": {},
   "outputs": [
    {
     "name": "stdout",
     "output_type": "stream",
     "text": [
      "[0.  0.1]\n",
      "used     : 0.406906112 GB\n",
      "peak     : 0.408958208 GB\n",
      "total    : 0.0 GB\n",
      "largest free block: 0.0 GB\n"
     ]
    }
   ],
   "source": [
    "# override from previous cells:\n",
    "Lz = 10e-2; # Length of propagation in z\n",
    "save_at = jnp.linspace(0, Lz, 2, endpoint=True); # save at these positions in z\n",
    "print(save_at)\n",
    "n2 = 2.22e-25\n",
    "\n",
    "##########\n",
    "args = {\"Lx\" : Lx, \"Ly\": Ly, \"Lz\": Lz, \"Lt\": Lt,   # spatiotemporal dimensions\n",
    "        \"Nx\": Nx, \"Ny\": Ny, \"Nt\": Nt,              # spatial and temporal grid\n",
    "        \"n_xyomega\": n_xyomega, \"n2\": n2, \"nref\": n_clad, # potential params\n",
    "        \"beta0\": beta0, \"beta1\" : beta1,       # propagation params\n",
    "        \"beta2\": beta2, \"lambda0\": lambda0,    # propagation params\n",
    "        \"save_at\": save_at,                   # array of z positions to save at\n",
    "        \"deltaZ\": 1e-6,                       # linear step size\n",
    "        \"deltaZ_NL\":1e-5,                      # nonlinear step size\n",
    "        \"saturation_intensity\": 5e-5,          #\n",
    "        \"gain_coeff\": 0.0,\n",
    "        \"gain_fwhm\": 0.0,\n",
    "        \"t1\": 12.2e-15, \"t2\": 32e-15,       \n",
    "        \"pml_thickness\": pml_thickness, \"pml_Wmax\": 10.0e12, # pml_Wmax,\n",
    "        \"fr\": 0.0, \"sw\": 0                   # raman fraction (0.0 for no raman) and \n",
    "       };\n",
    "\n",
    "stats = dev.memory_stats() \n",
    "print(\"used     :\", gb(stats.get(\"bytes_in_use\", 0)), \"GB\")\n",
    "print(\"peak     :\", gb(stats.get(\"peak_bytes_in_use\", 0)), \"GB\")\n",
    "print(\"total    :\", gb(stats.get(\"total_device_memory\", 0)), \"GB\")\n",
    "print(\"largest free block:\", gb(stats.get(\"largest_free_block_bytes\", 0)), \"GB\")"
   ]
  },
  {
   "cell_type": "code",
   "execution_count": null,
   "id": "c400c59e",
   "metadata": {},
   "outputs": [],
   "source": [
    "results = GNLSE3D_propagate_scan(args, field); "
   ]
  },
  {
   "cell_type": "code",
   "execution_count": null,
   "id": "2f76a826",
   "metadata": {},
   "outputs": [
    {
     "name": "stdout",
     "output_type": "stream",
     "text": [
      "used     : 0.943777024 GB\n",
      "peak     : 2.420711936 GB\n",
      "total    : 0.0 GB\n",
      "largest free block: 0.0 GB\n",
      "(256, 256, 256, 2)\n",
      "power:  1.0355687032955476  MW\n"
     ]
    },
    {
     "data": {
      "image/png": "[encoded data removed]",
      "text/plain": [
       "<Figure size 640x480 with 2 Axes>"
      ]
     },
     "metadata": {},
     "output_type": "display_data"
    }
   ],
   "source": [
    "stats = dev.memory_stats() \n",
    "print(\"used     :\", gb(stats.get(\"bytes_in_use\", 0)), \"GB\")\n",
    "print(\"peak     :\", gb(stats.get(\"peak_bytes_in_use\", 0)), \"GB\")\n",
    "print(\"total    :\", gb(stats.get(\"total_device_memory\", 0)), \"GB\")\n",
    "print(\"largest free block:\", gb(stats.get(\"largest_free_block_bytes\", 0)), \"GB\")\n",
    "\n",
    "slot = 1; # Last save slot\n",
    "time = 117; # Time slot to visualize\n",
    "print(results[\"field\"].shape);\n",
    "\n",
    "res_field = results[\"field\"][:, :, time, slot];\n",
    "\n",
    "I_xy = jnp.real(res_field)**2 + jnp.imag(res_field)**2\n",
    "P_xy = jnp.sum(I_xy) * dx * dy;\n",
    "print(\"power: \", P_xy * 1e-6 , \" MW\");\n",
    "\n",
    "plt.figure();\n",
    "plt.imshow(I_xy, cmap='hot', interpolation='nearest');\n",
    "plt.colorbar();\n",
    "plt.title(f\"Intensity: t ={time * Lt/Nt}, z= {round(save_at[slot], 3)*100} cm, power = {round(P_xy * 1e-6, 2)} MW\");\n",
    "plt.xlabel(\"x\");    plt.ylabel(\"y\");\n",
    "plt.show();"
   ]
  },
  {
   "cell_type": "code",
   "execution_count": null,
   "id": "1639976c",
   "metadata": {},
   "outputs": [
    {
     "name": "stdout",
     "output_type": "stream",
     "text": [
      "Saved animation to: xy_t_CW_mode_beating.gif\n"
     ]
    }
   ],
   "source": [
    "# Create an animation of the field intensity over time\n",
    "gif_path = make_xy_t_animation(results[\"field\"], z_index=-1, quantity='intensity', norm='global',\n",
    "                               fps=30, filename='xy_t_CW_mode_beating.gif')\n",
    "print(\"Saved animation to:\", gif_path)\n"
   ]
  },
  {
   "cell_type": "code",
   "execution_count": null,
   "id": "789876da",
   "metadata": {},
   "outputs": [
    {
     "name": "stdout",
     "output_type": "stream",
     "text": [
      "Relative std of P(t): 0.03986762012279841\n"
     ]
    }
   ],
   "source": [
    "# P(t) = ∬ |E(x,y,t,z=Lz)|^2 dx dy\n",
    "P_out = np.sum(np.abs(np.asarray(results[\"field\"][..., -1]))**2, axis=(0,1)) * dx * dy\n",
    "rel_std = P_out.std() / P_out.mean()\n",
    "print(\"Relative std of P(t):\", rel_std)\n"
   ]
  },
  {
   "cell_type": "code",
   "execution_count": null,
   "id": "8eeaf386",
   "metadata": {},
   "outputs": [],
   "source": []
  }
 ],
 "metadata": {
  "kernelspec": {
   "display_name": "Python 3",
   "language": "python",
   "name": "python3"
  },
  "language_info": {
   "codemirror_mode": {
    "name": "ipython",
    "version": 3
   },
   "file_extension": ".py",
   "mimetype": "text/x-python",
   "name": "python",
   "nbconvert_exporter": "python",
   "pygments_lexer": "ipython3",
   "version": "3.12.3"
  }
 },
 "nbformat": 4,
 "nbformat_minor": 5
}
