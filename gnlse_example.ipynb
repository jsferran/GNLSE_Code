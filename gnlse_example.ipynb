{
 "cells": [
  {
   "cell_type": "code",
   "execution_count": 1,
   "id": "5e2cd404",
   "metadata": {},
   "outputs": [
    {
     "name": "stdout",
     "output_type": "stream",
     "text": [
      "None\n",
      "true\n",
      "[CudaDevice(id=0)]\n",
      "used     : 0.0 GB\n",
      "peak     : 0.0 GB\n",
      "total    : 0.0 GB\n",
      "largest free block: 0.0 GB\n"
     ]
    },
    {
     "name": "stderr",
     "output_type": "stream",
     "text": [
      "/home/josalferr/.local/lib/python3.12/site-packages/matplotlib/projections/__init__.py:63: UserWarning: Unable to import Axes3D. This may be due to multiple versions of Matplotlib being installed (e.g. as a system package and as a pip package). As a result, the 3D projection is not available.\n",
      "  warnings.warn(\"Unable to import Axes3D. This may be due to multiple versions of \"\n"
     ]
    }
   ],
   "source": [
    "import os\n",
    "os.environ[\"XLA_PYTHON_CLIENT_PREALLOCATE\"] = \"true\";\n",
    "os.environ[\"XLA_PYTHON_CLIENT_MEM_FRACTION\"]=\"1.00\";\n",
    "#os.environ[\"TF_GPU_ALLOCATOR\"]=\"cuda_malloc_async\";\n",
    "print(os.environ.get(\"TF_GPU_ALLOCATOR\"))\n",
    "print(os.environ.get(\"XLA_PYTHON_CLIENT_PREALLOCATE\"))\n",
    "import jax\n",
    "import jax.numpy as jnp;\n",
    "from types import SimpleNamespace;\n",
    "from pathlib import Path\n",
    "import numpy as np\n",
    "from functools import partial\n",
    "from gnlse_medium import *\n",
    "from gnlse_source import *\n",
    "from gnlse_solver import *\n",
    "from gnlse_events import *\n",
    "from gnlse_visualizations import *\n",
    "import matplotlib.pyplot as plt\n",
    "import gc; \n",
    "gc.collect();\n",
    "\n",
    "jax.config.update(\"jax_enable_x64\", True);\n",
    "print(jax.devices());\n",
    "jr64 = 'float64';\n",
    "jc128 = 'complex128';\n",
    "\n",
    "dev = jax.devices()[0]\n",
    "stats = dev.memory_stats() \n",
    "def gb(x): return x / 1e9\n",
    "\n",
    "print(\"used     :\", gb(stats.get(\"bytes_in_use\", 0)), \"GB\")\n",
    "print(\"peak     :\", gb(stats.get(\"peak_bytes_in_use\", 0)), \"GB\")\n",
    "print(\"total    :\", gb(stats.get(\"total_device_memory\", 0)), \"GB\")\n",
    "print(\"largest free block:\", gb(stats.get(\"largest_free_block_bytes\", 0)), \"GB\")"
   ]
  },
  {
   "cell_type": "code",
   "execution_count": 2,
   "id": "b6d70e42",
   "metadata": {},
   "outputs": [
    {
     "name": "stdout",
     "output_type": "stream",
     "text": [
      "used     : 0.0 GB\n",
      "peak     : 0.0 GB\n",
      "total    : 0.0 GB\n",
      "largest free block: 0.0 GB\n",
      "used     : 0.0 GB\n",
      "peak     : 0.0 GB\n",
      "total    : 0.0 GB\n",
      "largest free block: 0.0 GB\n"
     ]
    }
   ],
   "source": [
    "stats = dev.memory_stats() \n",
    "print(\"used     :\", gb(stats.get(\"bytes_in_use\", 0)), \"GB\")\n",
    "print(\"peak     :\", gb(stats.get(\"peak_bytes_in_use\", 0)), \"GB\")\n",
    "print(\"total    :\", gb(stats.get(\"total_device_memory\", 0)), \"GB\")\n",
    "print(\"largest free block:\", gb(stats.get(\"largest_free_block_bytes\", 0)), \"GB\")\n",
    "\n",
    "\n",
    "jax.clear_caches()\n",
    "\n",
    "stats = dev.memory_stats() \n",
    "print(\"used     :\", gb(stats.get(\"bytes_in_use\", 0)), \"GB\")\n",
    "print(\"peak     :\", gb(stats.get(\"peak_bytes_in_use\", 0)), \"GB\")\n",
    "print(\"total    :\", gb(stats.get(\"total_device_memory\", 0)), \"GB\")\n",
    "print(\"largest free block:\", gb(stats.get(\"largest_free_block_bytes\", 0)), \"GB\")"
   ]
  },
  {
   "cell_type": "code",
   "execution_count": 3,
   "id": "d7c77baf",
   "metadata": {},
   "outputs": [],
   "source": [
    "#########################################################################################\n",
    "'''Spatio-temporal params: '''\n",
    "\n",
    "Nx = Ny = 256;\n",
    "Lx = Ly = 200e-6;\n",
    "Lz = 1e-2;\n",
    "Lt = 10e-12; # Length of time in seconds\n",
    "Nt = 1; # Number of time steps\n",
    "dx = Lx/Nx;\n",
    "dy = Ly/Ny;\n",
    "\n",
    "\n",
    "X, Y = make_space(Lx, Nx, Ly, Ny);"
   ]
  },
  {
   "cell_type": "code",
   "execution_count": 4,
   "id": "8d5d6b85",
   "metadata": {},
   "outputs": [
    {
     "name": "stdout",
     "output_type": "stream",
     "text": [
      "n_clad:  1.468442712535971\n"
     ]
    }
   ],
   "source": [
    "#########################################################################################\n",
    "''' Refractive index profile (GRIN in this example): '''\n",
    "\n",
    "n_core = 1.482; #n_clad = 1.451; ''' core and cladding index '''\n",
    "NA = 0.200; # numerical aperture\n",
    "n_clad = np.sqrt(n_core**2 - NA**2); # cladding index from NA\n",
    "print(\"n_clad: \", n_clad)\n",
    "r_core = 50e-6; ''' core radius '''\n",
    "alpha = 2.0; ''' Index profile exponent (alpha = 2 for parabolic GRIN) '''\n",
    "\n",
    "#nxy = make_supergauss_index(X, Y, n_core = n_core, n_clad = n_clad, r_core = r_core, m =20);\n",
    "nxy = make_polynomial_n(X, Y, n_core = n_core, n_clad = n_clad, r_core = r_core, alpha = alpha);\n",
    "n_xyomega = jnp.tile(nxy[:,:,None], (1,1 , Nt));"
   ]
  },
  {
   "cell_type": "code",
   "execution_count": 5,
   "id": "7774f3aa",
   "metadata": {},
   "outputs": [
    {
     "data": {
      "text/plain": [
       "' Comment out when folder populated '"
      ]
     },
     "execution_count": 5,
     "metadata": {},
     "output_type": "execute_result"
    }
   ],
   "source": [
    "###########################################################################################\n",
    "''' Solve for modes; comment outR,R if folder is already populated:\n",
    "(Note: Modes specific to particular Lx, Nx, Ly, Ny -> X, Y grid!):\n",
    "(Note:  n_ref is usually the core index, n_core): '''\n",
    "\n",
    "lambda0 = 1030e-9; ''' 1030 nm '''\n",
    "n_modes = 200;\n",
    "folder = Path(\"GRIN_modes\"); \n",
    "\n",
    "''' Comment out when folder populated '''\n",
    "#solve_modes(n_xy=nxy, n_ref = n_core, x = X[:, 0], y = Y[0, :], lambda0 = lambda0,\n",
    "#            n_modes = n_modes, folder = folder, maxiter = 5000, tol = 1e-9);"
   ]
  },
  {
   "cell_type": "code",
   "execution_count": 6,
   "id": "0b0ecb66",
   "metadata": {},
   "outputs": [],
   "source": [
    "############################################################################################\n",
    "''' Build a field from the discovered modes: '''\n",
    "\n",
    "weights_init = {42: 2.0 + 1j/2, 99: 1.0 + 1.6j/2} #, 100: 1.0 + 1j/2, 101: 1.0 + 1j/2, 102: 1.0 + 1j/2,};\n",
    "field_unscaled, indices, coeffs = make_source_from_files(folder=\"GRIN_modes\", heading=\"mode\", file_format = \"npz\", weights = weights_init);\n",
    "E_xy, weights = norm_scale_field_weights(field_unscaled, indices, coeffs, power = 1.0, dx = dx, dy = dy);"
   ]
  },
  {
   "cell_type": "code",
   "execution_count": 7,
   "id": "eba49fe1",
   "metadata": {},
   "outputs": [
    {
     "name": "stdout",
     "output_type": "stream",
     "text": [
      "[3162.27766017+0.j]\n",
      "(256, 256, 1)\n"
     ]
    },
    {
     "data": {
      "image/png": "[encoded data removed]",
      "text/plain": [
       "<Figure size 640x480 with 1 Axes>"
      ]
     },
     "metadata": {},
     "output_type": "display_data"
    }
   ],
   "source": [
    "############################################################################################\n",
    "power = 10e6; ''' 20 MW '''\n",
    "\n",
    "''' Define temporal profile '''\n",
    "phis = 0.0;\n",
    "t0 = 0.0;\n",
    "fwhm = 120e-15; ''' 120 fs '''\n",
    "phase = 0.0;\n",
    "omega0 = 2 * jnp.pi / lambda0; ''' Carrier frequency in rad/s '''\n",
    "T = jnp.linspace(-Lt/2, Lt/2, Nt); # time grid`\n",
    "\n",
    "#E_t = cw_temp_profile(jnp.array(lambda0, dtype = jnp.float64), phis, Lt=Lt, Nt=Nt);\n",
    "#E_t = gaussian_pulse_profile(t0, fwhm, Lt, Nt, carrier_omega=omega0, phase=phase)\n",
    "lambdas = jnp.array([1030e-9])\n",
    "phis    = jnp.array([0.0])\n",
    "E_t_cw  = cw_temp_profile_freq(lambdas, phis, Lt, Nt)\n",
    "# Gaussian: 150 fs FWHM, centered at t0=0, with a carrier shift\n",
    "#E_t_gauss = gaussian_pulse_profile_freq(t0=0.0, fwhm=150e-15, Lt=Lt, Nt=Nt, carrier_omega=0.0, phase=0.0)\n",
    "\n",
    "E_t = jnp.sqrt(power) * E_t_cw;\n",
    "print(E_t)\n",
    "\n",
    "plt.figure();\n",
    "plt.plot(T * 1e15, np.abs(E_t)**2 / 1e6);\n",
    "plt.xlabel(\"Time (fs)\"); plt.ylabel(\"Power(t) (MW)\");\n",
    "plt.title(\"Temporal profile\");\n",
    "\n",
    "field = combine_spatial_temporal(E_xy, E_t) ;\n",
    "print(jnp.shape(field));"
   ]
  },
  {
   "cell_type": "code",
   "execution_count": 8,
   "id": "b75ab577",
   "metadata": {},
   "outputs": [
    {
     "name": "stdout",
     "output_type": "stream",
     "text": [
      "power:  10.0  MW\n"
     ]
    },
    {
     "data": {
      "image/png": "[encoded data removed]",
      "text/plain": [
       "<Figure size 640x480 with 2 Axes>"
      ]
     },
     "metadata": {},
     "output_type": "display_data"
    }
   ],
   "source": [
    "t_index =  int(Nt / 2); # Time index to visualize\n",
    "I_xy = jnp.real(field[:, :, t_index])**2 + jnp.imag(field[:, :, t_index])**2\n",
    "P_xy = jnp.sum(I_xy) * dx * dy;\n",
    "print(\"power: \", P_xy / 1e6, \" MW\");\n",
    "\n",
    "\n",
    "plt.figure()\n",
    "plt.imshow(I_xy, cmap='hot', interpolation='nearest');\n",
    "plt.colorbar();\n",
    "plt.title(f\"Intensity at t = {t_index}\");\n",
    "plt.xlabel(\"x\");    plt.ylabel(\"y\");\n",
    "plt.show();"
   ]
  },
  {
   "cell_type": "code",
   "execution_count": 9,
   "id": "26333d0c",
   "metadata": {},
   "outputs": [
    {
     "name": "stdout",
     "output_type": "stream",
     "text": [
      "beta0:  9040466.626446744\n"
     ]
    },
    {
     "data": {
      "text/plain": [
       "' args '"
      ]
     },
     "execution_count": 9,
     "metadata": {},
     "output_type": "execute_result"
    }
   ],
   "source": [
    "#############################################################################################\n",
    "''' Define remaining params: '''\n",
    "c = 2.998e8;\n",
    "beta0 = n_core * 2 * jnp.pi / lambda0;\n",
    "print(\"beta0: \", beta0);\n",
    "n_g = 1.468; # group index\n",
    "beta1 = n_g / c;\n",
    "beta2 = 22e-27; # 1.0; # Dispersion coefficient in s^2/m\n",
    "n2 = 2.22e-20; ''' 2.22e-20 m^2/W '''\n",
    "omega = None;\n",
    "\n",
    "pml_thickness = 40e-6;\n",
    "pml_Wmax = 1e12;\n",
    "''' args '''\n",
    "\n"
   ]
  },
  {
   "cell_type": "code",
   "execution_count": 10,
   "id": "b2dec210",
   "metadata": {},
   "outputs": [
    {
     "name": "stdout",
     "output_type": "stream",
     "text": [
      "[0.00000000e+00 5.00500501e-05 1.00100100e-04 1.50150150e-04\n",
      " 2.00200200e-04 2.50250250e-04 3.00300300e-04 3.50350350e-04\n",
      " 4.00400400e-04 4.50450450e-04 5.00500501e-04 5.50550551e-04\n",
      " 6.00600601e-04 6.50650651e-04 7.00700701e-04 7.50750751e-04\n",
      " 8.00800801e-04 8.50850851e-04 9.00900901e-04 9.50950951e-04\n",
      " 1.00100100e-03 1.05105105e-03 1.10110110e-03 1.15115115e-03\n",
      " 1.20120120e-03 1.25125125e-03 1.30130130e-03 1.35135135e-03\n",
      " 1.40140140e-03 1.45145145e-03 1.50150150e-03 1.55155155e-03\n",
      " 1.60160160e-03 1.65165165e-03 1.70170170e-03 1.75175175e-03\n",
      " 1.80180180e-03 1.85185185e-03 1.90190190e-03 1.95195195e-03\n",
      " 2.00200200e-03 2.05205205e-03 2.10210210e-03 2.15215215e-03\n",
      " 2.20220220e-03 2.25225225e-03 2.30230230e-03 2.35235235e-03\n",
      " 2.40240240e-03 2.45245245e-03 2.50250250e-03 2.55255255e-03\n",
      " 2.60260260e-03 2.65265265e-03 2.70270270e-03 2.75275275e-03\n",
      " 2.80280280e-03 2.85285285e-03 2.90290290e-03 2.95295295e-03\n",
      " 3.00300300e-03 3.05305305e-03 3.10310310e-03 3.15315315e-03\n",
      " 3.20320320e-03 3.25325325e-03 3.30330330e-03 3.35335335e-03\n",
      " 3.40340340e-03 3.45345345e-03 3.50350350e-03 3.55355355e-03\n",
      " 3.60360360e-03 3.65365365e-03 3.70370370e-03 3.75375375e-03\n",
      " 3.80380380e-03 3.85385385e-03 3.90390390e-03 3.95395395e-03\n",
      " 4.00400400e-03 4.05405405e-03 4.10410410e-03 4.15415415e-03\n",
      " 4.20420420e-03 4.25425425e-03 4.30430430e-03 4.35435435e-03\n",
      " 4.40440440e-03 4.45445445e-03 4.50450450e-03 4.55455455e-03\n",
      " 4.60460460e-03 4.65465465e-03 4.70470470e-03 4.75475475e-03\n",
      " 4.80480480e-03 4.85485485e-03 4.90490490e-03 4.95495495e-03\n",
      " 5.00500501e-03 5.05505506e-03 5.10510511e-03 5.15515516e-03\n",
      " 5.20520521e-03 5.25525526e-03 5.30530531e-03 5.35535536e-03\n",
      " 5.40540541e-03 5.45545546e-03 5.50550551e-03 5.55555556e-03\n",
      " 5.60560561e-03 5.65565566e-03 5.70570571e-03 5.75575576e-03\n",
      " 5.80580581e-03 5.85585586e-03 5.90590591e-03 5.95595596e-03\n",
      " 6.00600601e-03 6.05605606e-03 6.10610611e-03 6.15615616e-03\n",
      " 6.20620621e-03 6.25625626e-03 6.30630631e-03 6.35635636e-03\n",
      " 6.40640641e-03 6.45645646e-03 6.50650651e-03 6.55655656e-03\n",
      " 6.60660661e-03 6.65665666e-03 6.70670671e-03 6.75675676e-03\n",
      " 6.80680681e-03 6.85685686e-03 6.90690691e-03 6.95695696e-03\n",
      " 7.00700701e-03 7.05705706e-03 7.10710711e-03 7.15715716e-03\n",
      " 7.20720721e-03 7.25725726e-03 7.30730731e-03 7.35735736e-03\n",
      " 7.40740741e-03 7.45745746e-03 7.50750751e-03 7.55755756e-03\n",
      " 7.60760761e-03 7.65765766e-03 7.70770771e-03 7.75775776e-03\n",
      " 7.80780781e-03 7.85785786e-03 7.90790791e-03 7.95795796e-03\n",
      " 8.00800801e-03 8.05805806e-03 8.10810811e-03 8.15815816e-03\n",
      " 8.20820821e-03 8.25825826e-03 8.30830831e-03 8.35835836e-03\n",
      " 8.40840841e-03 8.45845846e-03 8.50850851e-03 8.55855856e-03\n",
      " 8.60860861e-03 8.65865866e-03 8.70870871e-03 8.75875876e-03\n",
      " 8.80880881e-03 8.85885886e-03 8.90890891e-03 8.95895896e-03\n",
      " 9.00900901e-03 9.05905906e-03 9.10910911e-03 9.15915916e-03\n",
      " 9.20920921e-03 9.25925926e-03 9.30930931e-03 9.35935936e-03\n",
      " 9.40940941e-03 9.45945946e-03 9.50950951e-03 9.55955956e-03\n",
      " 9.60960961e-03 9.65965966e-03 9.70970971e-03 9.75975976e-03\n",
      " 9.80980981e-03 9.85985986e-03 9.90990991e-03 9.95995996e-03\n",
      " 1.00100100e-02 1.00600601e-02 1.01101101e-02 1.01601602e-02\n",
      " 1.02102102e-02 1.02602603e-02 1.03103103e-02 1.03603604e-02\n",
      " 1.04104104e-02 1.04604605e-02 1.05105105e-02 1.05605606e-02\n",
      " 1.06106106e-02 1.06606607e-02 1.07107107e-02 1.07607608e-02\n",
      " 1.08108108e-02 1.08608609e-02 1.09109109e-02 1.09609610e-02\n",
      " 1.10110110e-02 1.10610611e-02 1.11111111e-02 1.11611612e-02\n",
      " 1.12112112e-02 1.12612613e-02 1.13113113e-02 1.13613614e-02\n",
      " 1.14114114e-02 1.14614615e-02 1.15115115e-02 1.15615616e-02\n",
      " 1.16116116e-02 1.16616617e-02 1.17117117e-02 1.17617618e-02\n",
      " 1.18118118e-02 1.18618619e-02 1.19119119e-02 1.19619620e-02\n",
      " 1.20120120e-02 1.20620621e-02 1.21121121e-02 1.21621622e-02\n",
      " 1.22122122e-02 1.22622623e-02 1.23123123e-02 1.23623624e-02\n",
      " 1.24124124e-02 1.24624625e-02 1.25125125e-02 1.25625626e-02\n",
      " 1.26126126e-02 1.26626627e-02 1.27127127e-02 1.27627628e-02\n",
      " 1.28128128e-02 1.28628629e-02 1.29129129e-02 1.29629630e-02\n",
      " 1.30130130e-02 1.30630631e-02 1.31131131e-02 1.31631632e-02\n",
      " 1.32132132e-02 1.32632633e-02 1.33133133e-02 1.33633634e-02\n",
      " 1.34134134e-02 1.34634635e-02 1.35135135e-02 1.35635636e-02\n",
      " 1.36136136e-02 1.36636637e-02 1.37137137e-02 1.37637638e-02\n",
      " 1.38138138e-02 1.38638639e-02 1.39139139e-02 1.39639640e-02\n",
      " 1.40140140e-02 1.40640641e-02 1.41141141e-02 1.41641642e-02\n",
      " 1.42142142e-02 1.42642643e-02 1.43143143e-02 1.43643644e-02\n",
      " 1.44144144e-02 1.44644645e-02 1.45145145e-02 1.45645646e-02\n",
      " 1.46146146e-02 1.46646647e-02 1.47147147e-02 1.47647648e-02\n",
      " 1.48148148e-02 1.48648649e-02 1.49149149e-02 1.49649650e-02\n",
      " 1.50150150e-02 1.50650651e-02 1.51151151e-02 1.51651652e-02\n",
      " 1.52152152e-02 1.52652653e-02 1.53153153e-02 1.53653654e-02\n",
      " 1.54154154e-02 1.54654655e-02 1.55155155e-02 1.55655656e-02\n",
      " 1.56156156e-02 1.56656657e-02 1.57157157e-02 1.57657658e-02\n",
      " 1.58158158e-02 1.58658659e-02 1.59159159e-02 1.59659660e-02\n",
      " 1.60160160e-02 1.60660661e-02 1.61161161e-02 1.61661662e-02\n",
      " 1.62162162e-02 1.62662663e-02 1.63163163e-02 1.63663664e-02\n",
      " 1.64164164e-02 1.64664665e-02 1.65165165e-02 1.65665666e-02\n",
      " 1.66166166e-02 1.66666667e-02 1.67167167e-02 1.67667668e-02\n",
      " 1.68168168e-02 1.68668669e-02 1.69169169e-02 1.69669670e-02\n",
      " 1.70170170e-02 1.70670671e-02 1.71171171e-02 1.71671672e-02\n",
      " 1.72172172e-02 1.72672673e-02 1.73173173e-02 1.73673674e-02\n",
      " 1.74174174e-02 1.74674675e-02 1.75175175e-02 1.75675676e-02\n",
      " 1.76176176e-02 1.76676677e-02 1.77177177e-02 1.77677678e-02\n",
      " 1.78178178e-02 1.78678679e-02 1.79179179e-02 1.79679680e-02\n",
      " 1.80180180e-02 1.80680681e-02 1.81181181e-02 1.81681682e-02\n",
      " 1.82182182e-02 1.82682683e-02 1.83183183e-02 1.83683684e-02\n",
      " 1.84184184e-02 1.84684685e-02 1.85185185e-02 1.85685686e-02\n",
      " 1.86186186e-02 1.86686687e-02 1.87187187e-02 1.87687688e-02\n",
      " 1.88188188e-02 1.88688689e-02 1.89189189e-02 1.89689690e-02\n",
      " 1.90190190e-02 1.90690691e-02 1.91191191e-02 1.91691692e-02\n",
      " 1.92192192e-02 1.92692693e-02 1.93193193e-02 1.93693694e-02\n",
      " 1.94194194e-02 1.94694695e-02 1.95195195e-02 1.95695696e-02\n",
      " 1.96196196e-02 1.96696697e-02 1.97197197e-02 1.97697698e-02\n",
      " 1.98198198e-02 1.98698699e-02 1.99199199e-02 1.99699700e-02\n",
      " 2.00200200e-02 2.00700701e-02 2.01201201e-02 2.01701702e-02\n",
      " 2.02202202e-02 2.02702703e-02 2.03203203e-02 2.03703704e-02\n",
      " 2.04204204e-02 2.04704705e-02 2.05205205e-02 2.05705706e-02\n",
      " 2.06206206e-02 2.06706707e-02 2.07207207e-02 2.07707708e-02\n",
      " 2.08208208e-02 2.08708709e-02 2.09209209e-02 2.09709710e-02\n",
      " 2.10210210e-02 2.10710711e-02 2.11211211e-02 2.11711712e-02\n",
      " 2.12212212e-02 2.12712713e-02 2.13213213e-02 2.13713714e-02\n",
      " 2.14214214e-02 2.14714715e-02 2.15215215e-02 2.15715716e-02\n",
      " 2.16216216e-02 2.16716717e-02 2.17217217e-02 2.17717718e-02\n",
      " 2.18218218e-02 2.18718719e-02 2.19219219e-02 2.19719720e-02\n",
      " 2.20220220e-02 2.20720721e-02 2.21221221e-02 2.21721722e-02\n",
      " 2.22222222e-02 2.22722723e-02 2.23223223e-02 2.23723724e-02\n",
      " 2.24224224e-02 2.24724725e-02 2.25225225e-02 2.25725726e-02\n",
      " 2.26226226e-02 2.26726727e-02 2.27227227e-02 2.27727728e-02\n",
      " 2.28228228e-02 2.28728729e-02 2.29229229e-02 2.29729730e-02\n",
      " 2.30230230e-02 2.30730731e-02 2.31231231e-02 2.31731732e-02\n",
      " 2.32232232e-02 2.32732733e-02 2.33233233e-02 2.33733734e-02\n",
      " 2.34234234e-02 2.34734735e-02 2.35235235e-02 2.35735736e-02\n",
      " 2.36236236e-02 2.36736737e-02 2.37237237e-02 2.37737738e-02\n",
      " 2.38238238e-02 2.38738739e-02 2.39239239e-02 2.39739740e-02\n",
      " 2.40240240e-02 2.40740741e-02 2.41241241e-02 2.41741742e-02\n",
      " 2.42242242e-02 2.42742743e-02 2.43243243e-02 2.43743744e-02\n",
      " 2.44244244e-02 2.44744745e-02 2.45245245e-02 2.45745746e-02\n",
      " 2.46246246e-02 2.46746747e-02 2.47247247e-02 2.47747748e-02\n",
      " 2.48248248e-02 2.48748749e-02 2.49249249e-02 2.49749750e-02\n",
      " 2.50250250e-02 2.50750751e-02 2.51251251e-02 2.51751752e-02\n",
      " 2.52252252e-02 2.52752753e-02 2.53253253e-02 2.53753754e-02\n",
      " 2.54254254e-02 2.54754755e-02 2.55255255e-02 2.55755756e-02\n",
      " 2.56256256e-02 2.56756757e-02 2.57257257e-02 2.57757758e-02\n",
      " 2.58258258e-02 2.58758759e-02 2.59259259e-02 2.59759760e-02\n",
      " 2.60260260e-02 2.60760761e-02 2.61261261e-02 2.61761762e-02\n",
      " 2.62262262e-02 2.62762763e-02 2.63263263e-02 2.63763764e-02\n",
      " 2.64264264e-02 2.64764765e-02 2.65265265e-02 2.65765766e-02\n",
      " 2.66266266e-02 2.66766767e-02 2.67267267e-02 2.67767768e-02\n",
      " 2.68268268e-02 2.68768769e-02 2.69269269e-02 2.69769770e-02\n",
      " 2.70270270e-02 2.70770771e-02 2.71271271e-02 2.71771772e-02\n",
      " 2.72272272e-02 2.72772773e-02 2.73273273e-02 2.73773774e-02\n",
      " 2.74274274e-02 2.74774775e-02 2.75275275e-02 2.75775776e-02\n",
      " 2.76276276e-02 2.76776777e-02 2.77277277e-02 2.77777778e-02\n",
      " 2.78278278e-02 2.78778779e-02 2.79279279e-02 2.79779780e-02\n",
      " 2.80280280e-02 2.80780781e-02 2.81281281e-02 2.81781782e-02\n",
      " 2.82282282e-02 2.82782783e-02 2.83283283e-02 2.83783784e-02\n",
      " 2.84284284e-02 2.84784785e-02 2.85285285e-02 2.85785786e-02\n",
      " 2.86286286e-02 2.86786787e-02 2.87287287e-02 2.87787788e-02\n",
      " 2.88288288e-02 2.88788789e-02 2.89289289e-02 2.89789790e-02\n",
      " 2.90290290e-02 2.90790791e-02 2.91291291e-02 2.91791792e-02\n",
      " 2.92292292e-02 2.92792793e-02 2.93293293e-02 2.93793794e-02\n",
      " 2.94294294e-02 2.94794795e-02 2.95295295e-02 2.95795796e-02\n",
      " 2.96296296e-02 2.96796797e-02 2.97297297e-02 2.97797798e-02\n",
      " 2.98298298e-02 2.98798799e-02 2.99299299e-02 2.99799800e-02\n",
      " 3.00300300e-02 3.00800801e-02 3.01301301e-02 3.01801802e-02\n",
      " 3.02302302e-02 3.02802803e-02 3.03303303e-02 3.03803804e-02\n",
      " 3.04304304e-02 3.04804805e-02 3.05305305e-02 3.05805806e-02\n",
      " 3.06306306e-02 3.06806807e-02 3.07307307e-02 3.07807808e-02\n",
      " 3.08308308e-02 3.08808809e-02 3.09309309e-02 3.09809810e-02\n",
      " 3.10310310e-02 3.10810811e-02 3.11311311e-02 3.11811812e-02\n",
      " 3.12312312e-02 3.12812813e-02 3.13313313e-02 3.13813814e-02\n",
      " 3.14314314e-02 3.14814815e-02 3.15315315e-02 3.15815816e-02\n",
      " 3.16316316e-02 3.16816817e-02 3.17317317e-02 3.17817818e-02\n",
      " 3.18318318e-02 3.18818819e-02 3.19319319e-02 3.19819820e-02\n",
      " 3.20320320e-02 3.20820821e-02 3.21321321e-02 3.21821822e-02\n",
      " 3.22322322e-02 3.22822823e-02 3.23323323e-02 3.23823824e-02\n",
      " 3.24324324e-02 3.24824825e-02 3.25325325e-02 3.25825826e-02\n",
      " 3.26326326e-02 3.26826827e-02 3.27327327e-02 3.27827828e-02\n",
      " 3.28328328e-02 3.28828829e-02 3.29329329e-02 3.29829830e-02\n",
      " 3.30330330e-02 3.30830831e-02 3.31331331e-02 3.31831832e-02\n",
      " 3.32332332e-02 3.32832833e-02 3.33333333e-02 3.33833834e-02\n",
      " 3.34334334e-02 3.34834835e-02 3.35335335e-02 3.35835836e-02\n",
      " 3.36336336e-02 3.36836837e-02 3.37337337e-02 3.37837838e-02\n",
      " 3.38338338e-02 3.38838839e-02 3.39339339e-02 3.39839840e-02\n",
      " 3.40340340e-02 3.40840841e-02 3.41341341e-02 3.41841842e-02\n",
      " 3.42342342e-02 3.42842843e-02 3.43343343e-02 3.43843844e-02\n",
      " 3.44344344e-02 3.44844845e-02 3.45345345e-02 3.45845846e-02\n",
      " 3.46346346e-02 3.46846847e-02 3.47347347e-02 3.47847848e-02\n",
      " 3.48348348e-02 3.48848849e-02 3.49349349e-02 3.49849850e-02\n",
      " 3.50350350e-02 3.50850851e-02 3.51351351e-02 3.51851852e-02\n",
      " 3.52352352e-02 3.52852853e-02 3.53353353e-02 3.53853854e-02\n",
      " 3.54354354e-02 3.54854855e-02 3.55355355e-02 3.55855856e-02\n",
      " 3.56356356e-02 3.56856857e-02 3.57357357e-02 3.57857858e-02\n",
      " 3.58358358e-02 3.58858859e-02 3.59359359e-02 3.59859860e-02\n",
      " 3.60360360e-02 3.60860861e-02 3.61361361e-02 3.61861862e-02\n",
      " 3.62362362e-02 3.62862863e-02 3.63363363e-02 3.63863864e-02\n",
      " 3.64364364e-02 3.64864865e-02 3.65365365e-02 3.65865866e-02\n",
      " 3.66366366e-02 3.66866867e-02 3.67367367e-02 3.67867868e-02\n",
      " 3.68368368e-02 3.68868869e-02 3.69369369e-02 3.69869870e-02\n",
      " 3.70370370e-02 3.70870871e-02 3.71371371e-02 3.71871872e-02\n",
      " 3.72372372e-02 3.72872873e-02 3.73373373e-02 3.73873874e-02\n",
      " 3.74374374e-02 3.74874875e-02 3.75375375e-02 3.75875876e-02\n",
      " 3.76376376e-02 3.76876877e-02 3.77377377e-02 3.77877878e-02\n",
      " 3.78378378e-02 3.78878879e-02 3.79379379e-02 3.79879880e-02\n",
      " 3.80380380e-02 3.80880881e-02 3.81381381e-02 3.81881882e-02\n",
      " 3.82382382e-02 3.82882883e-02 3.83383383e-02 3.83883884e-02\n",
      " 3.84384384e-02 3.84884885e-02 3.85385385e-02 3.85885886e-02\n",
      " 3.86386386e-02 3.86886887e-02 3.87387387e-02 3.87887888e-02\n",
      " 3.88388388e-02 3.88888889e-02 3.89389389e-02 3.89889890e-02\n",
      " 3.90390390e-02 3.90890891e-02 3.91391391e-02 3.91891892e-02\n",
      " 3.92392392e-02 3.92892893e-02 3.93393393e-02 3.93893894e-02\n",
      " 3.94394394e-02 3.94894895e-02 3.95395395e-02 3.95895896e-02\n",
      " 3.96396396e-02 3.96896897e-02 3.97397397e-02 3.97897898e-02\n",
      " 3.98398398e-02 3.98898899e-02 3.99399399e-02 3.99899900e-02\n",
      " 4.00400400e-02 4.00900901e-02 4.01401401e-02 4.01901902e-02\n",
      " 4.02402402e-02 4.02902903e-02 4.03403403e-02 4.03903904e-02\n",
      " 4.04404404e-02 4.04904905e-02 4.05405405e-02 4.05905906e-02\n",
      " 4.06406406e-02 4.06906907e-02 4.07407407e-02 4.07907908e-02\n",
      " 4.08408408e-02 4.08908909e-02 4.09409409e-02 4.09909910e-02\n",
      " 4.10410410e-02 4.10910911e-02 4.11411411e-02 4.11911912e-02\n",
      " 4.12412412e-02 4.12912913e-02 4.13413413e-02 4.13913914e-02\n",
      " 4.14414414e-02 4.14914915e-02 4.15415415e-02 4.15915916e-02\n",
      " 4.16416416e-02 4.16916917e-02 4.17417417e-02 4.17917918e-02\n",
      " 4.18418418e-02 4.18918919e-02 4.19419419e-02 4.19919920e-02\n",
      " 4.20420420e-02 4.20920921e-02 4.21421421e-02 4.21921922e-02\n",
      " 4.22422422e-02 4.22922923e-02 4.23423423e-02 4.23923924e-02\n",
      " 4.24424424e-02 4.24924925e-02 4.25425425e-02 4.25925926e-02\n",
      " 4.26426426e-02 4.26926927e-02 4.27427427e-02 4.27927928e-02\n",
      " 4.28428428e-02 4.28928929e-02 4.29429429e-02 4.29929930e-02\n",
      " 4.30430430e-02 4.30930931e-02 4.31431431e-02 4.31931932e-02\n",
      " 4.32432432e-02 4.32932933e-02 4.33433433e-02 4.33933934e-02\n",
      " 4.34434434e-02 4.34934935e-02 4.35435435e-02 4.35935936e-02\n",
      " 4.36436436e-02 4.36936937e-02 4.37437437e-02 4.37937938e-02\n",
      " 4.38438438e-02 4.38938939e-02 4.39439439e-02 4.39939940e-02\n",
      " 4.40440440e-02 4.40940941e-02 4.41441441e-02 4.41941942e-02\n",
      " 4.42442442e-02 4.42942943e-02 4.43443443e-02 4.43943944e-02\n",
      " 4.44444444e-02 4.44944945e-02 4.45445445e-02 4.45945946e-02\n",
      " 4.46446446e-02 4.46946947e-02 4.47447447e-02 4.47947948e-02\n",
      " 4.48448448e-02 4.48948949e-02 4.49449449e-02 4.49949950e-02\n",
      " 4.50450450e-02 4.50950951e-02 4.51451451e-02 4.51951952e-02\n",
      " 4.52452452e-02 4.52952953e-02 4.53453453e-02 4.53953954e-02\n",
      " 4.54454454e-02 4.54954955e-02 4.55455455e-02 4.55955956e-02\n",
      " 4.56456456e-02 4.56956957e-02 4.57457457e-02 4.57957958e-02\n",
      " 4.58458458e-02 4.58958959e-02 4.59459459e-02 4.59959960e-02\n",
      " 4.60460460e-02 4.60960961e-02 4.61461461e-02 4.61961962e-02\n",
      " 4.62462462e-02 4.62962963e-02 4.63463463e-02 4.63963964e-02\n",
      " 4.64464464e-02 4.64964965e-02 4.65465465e-02 4.65965966e-02\n",
      " 4.66466466e-02 4.66966967e-02 4.67467467e-02 4.67967968e-02\n",
      " 4.68468468e-02 4.68968969e-02 4.69469469e-02 4.69969970e-02\n",
      " 4.70470470e-02 4.70970971e-02 4.71471471e-02 4.71971972e-02\n",
      " 4.72472472e-02 4.72972973e-02 4.73473473e-02 4.73973974e-02\n",
      " 4.74474474e-02 4.74974975e-02 4.75475475e-02 4.75975976e-02\n",
      " 4.76476476e-02 4.76976977e-02 4.77477477e-02 4.77977978e-02\n",
      " 4.78478478e-02 4.78978979e-02 4.79479479e-02 4.79979980e-02\n",
      " 4.80480480e-02 4.80980981e-02 4.81481481e-02 4.81981982e-02\n",
      " 4.82482482e-02 4.82982983e-02 4.83483483e-02 4.83983984e-02\n",
      " 4.84484484e-02 4.84984985e-02 4.85485485e-02 4.85985986e-02\n",
      " 4.86486486e-02 4.86986987e-02 4.87487487e-02 4.87987988e-02\n",
      " 4.88488488e-02 4.88988989e-02 4.89489489e-02 4.89989990e-02\n",
      " 4.90490490e-02 4.90990991e-02 4.91491491e-02 4.91991992e-02\n",
      " 4.92492492e-02 4.92992993e-02 4.93493493e-02 4.93993994e-02\n",
      " 4.94494494e-02 4.94994995e-02 4.95495495e-02 4.95995996e-02\n",
      " 4.96496496e-02 4.96996997e-02 4.97497497e-02 4.97997998e-02\n",
      " 4.98498498e-02 4.98998999e-02 4.99499499e-02 5.00000000e-02]\n",
      "used     : 0.005777408 GB\n",
      "peak     : 0.007931648 GB\n",
      "total    : 0.0 GB\n",
      "largest free block: 0.0 GB\n"
     ]
    }
   ],
   "source": [
    "# override from previous cells:\n",
    "Lz = 5e-2; # Length of propagation in z\n",
    "save_at = jnp.linspace(0, Lz, 1000, endpoint=True); # save at these positions in z\n",
    "print(save_at)\n",
    "n2 = 5e-21\n",
    "\n",
    "##########\n",
    "args = {\"Lx\" : Lx, \"Ly\": Ly, \"Lz\": Lz, \"Lt\": Lt,   # spatiotemporal dimensions\n",
    "        \"Nx\": Nx, \"Ny\": Ny, \"Nt\": Nt,              # spatial and temporal grid\n",
    "        \"n_xyomega\": n_xyomega, \"n2\": n2, \"nref\": n_clad, # potential params\n",
    "        \"beta0\": beta0, \"beta1\" : beta1,       # propagation params\n",
    "        \"beta2\": beta2, \"lambda0\": lambda0,    # propagation params\n",
    "        \"save_at\": save_at,                   # array of z positions to save at\n",
    "        \"deltaZ\": 1e-6,                       # linear step size\n",
    "        \"deltaZ_NL\":1e-5,                      # nonlinear step size\n",
    "        \"saturation_intensity\": 5e-5,          #\n",
    "        \"gain_coeff\": 0.0,\n",
    "        \"gain_fwhm\": 0.0,\n",
    "        \"t1\": 12.2e-15, \"t2\": 32e-15,       \n",
    "        \"pml_thickness\": pml_thickness, \"pml_Wmax\": 10.0e12, # pml_Wmax,\n",
    "        \"fr\": 0.0, \"sw\": 0                   # raman fraction (0.0 for no raman) and \n",
    "       };\n",
    "\n",
    "stats = dev.memory_stats() \n",
    "print(\"used     :\", gb(stats.get(\"bytes_in_use\", 0)), \"GB\")\n",
    "print(\"peak     :\", gb(stats.get(\"peak_bytes_in_use\", 0)), \"GB\")\n",
    "print(\"total    :\", gb(stats.get(\"total_device_memory\", 0)), \"GB\")\n",
    "print(\"largest free block:\", gb(stats.get(\"largest_free_block_bytes\", 0)), \"GB\")"
   ]
  },
  {
   "cell_type": "code",
   "execution_count": null,
   "id": "c400c59e",
   "metadata": {},
   "outputs": [],
   "source": [
    "results = GNLSE3D_propagate(args, field); "
   ]
  },
  {
   "cell_type": "code",
   "execution_count": null,
   "id": "2f76a826",
   "metadata": {},
   "outputs": [
    {
     "name": "stdout",
     "output_type": "stream",
     "text": [
      "used     : 1.054354688 GB\n",
      "peak     : 3.15885696 GB\n",
      "total    : 0.0 GB\n",
      "largest free block: 0.0 GB\n",
      "(256, 256, 1, 1000)\n",
      "power:  10.000000000086512  MW\n"
     ]
    },
    {
     "data": {
      "image/png": "[encoded data removed]",
      "text/plain": [
       "<Figure size 640x480 with 2 Axes>"
      ]
     },
     "metadata": {},
     "output_type": "display_data"
    }
   ],
   "source": [
    "stats = dev.memory_stats() \n",
    "print(\"used     :\", gb(stats.get(\"bytes_in_use\", 0)), \"GB\")\n",
    "print(\"peak     :\", gb(stats.get(\"peak_bytes_in_use\", 0)), \"GB\")\n",
    "print(\"total    :\", gb(stats.get(\"total_device_memory\", 0)), \"GB\")\n",
    "print(\"largest free block:\", gb(stats.get(\"largest_free_block_bytes\", 0)), \"GB\")\n",
    "\n",
    "slot = -1; # Last save slot\n",
    "time = 0; # Time slot to visualize\n",
    "print(results[\"field\"].shape);\n",
    "\n",
    "res_field = results[\"field\"][:, :, time, slot];\n",
    "\n",
    "I_xy = jnp.real(res_field)**2 + jnp.imag(res_field)**2\n",
    "P_xy = jnp.sum(I_xy) * dx * dy;\n",
    "print(\"power: \", P_xy * 1e-6 , \" MW\");\n",
    "\n",
    "plt.figure();\n",
    "plt.imshow(I_xy, cmap='hot', interpolation='nearest');\n",
    "plt.colorbar();\n",
    "plt.title(f\"Intensity: t ={time * Lt/Nt}, z= {round(save_at[slot], 3)*100} cm, power = {round(P_xy * 1e-6, 2)} MW\");\n",
    "plt.xlabel(\"x\");    plt.ylabel(\"y\");\n",
    "plt.show();"
   ]
  },
  {
   "cell_type": "code",
   "execution_count": null,
   "id": "1639976c",
   "metadata": {},
   "outputs": [
    {
     "name": "stdout",
     "output_type": "stream",
     "text": [
      "Saved animation to: xy_z_CW_beam_cleaning.gif\n"
     ]
    }
   ],
   "source": [
    "# Create an animation of the field intensity over time\n",
    "#gif_path = make_xy_z_animation(results[\"field\"], t_index=-1, quantity='intensity', norm='per_frame',\n",
    "#                               fps=50, filename='xy_z_CW_beam_cleaning.gif')\n",
    "#print(\"Saved animation to:\", gif_path)\n"
   ]
  },
  {
   "cell_type": "code",
   "execution_count": null,
   "id": "789876da",
   "metadata": {},
   "outputs": [
    {
     "name": "stdout",
     "output_type": "stream",
     "text": [
      "Relative std of P(t): 0.0\n"
     ]
    }
   ],
   "source": [
    "# P(t) = ∬ |E(x,y,t,z=Lz)|^2 dx dy\n",
    "P_out = np.sum(np.abs(np.asarray(results[\"field\"][..., -1]))**2, axis=(0,1)) * dx * dy\n",
    "rel_std = P_out.std() / P_out.mean()\n",
    "print(\"Relative std of P(t):\", rel_std)\n"
   ]
  },
  {
   "cell_type": "code",
   "execution_count": null,
   "id": "8eeaf386",
   "metadata": {},
   "outputs": [
    {
     "name": "stdout",
     "output_type": "stream",
     "text": [
      "threshold intensity: 2.9e+18\n"
     ]
    }
   ],
   "source": [
    "info = compute_self_focusing_pixel_intensity(10e6, n2, dx, dy, safety=0.5, include_delta_n_cap=True);\n",
    "I_thresh = info['I_thresh']\n",
    "print(\"threshold intensity:\", I_thresh);\n",
    "\n",
    "def collapse_event(field_xyt, z, payload):\n",
    "    return jnp.max(jnp.abs(field_xyt)**2) > I_thresh;"
   ]
  },
  {
   "cell_type": "code",
   "execution_count": null,
   "id": "c9112927",
   "metadata": {},
   "outputs": [
    {
     "name": "stdout",
     "output_type": "stream",
     "text": [
      "True 0.37323\n"
     ]
    }
   ],
   "source": [
    "results_prime = GNLSE3D_propagate(\n",
    "    args, field,\n",
    "    event_fn=collapse_event,\n",
    "    event_payload={'I_thresh': I_thresh},  # W/m^2\n",
    "    stop_on_event=True,\n",
    "    event_check_every=1\n",
    ")\n",
    "print(results_prime['stopped_early'], results_prime['z_event'])"
   ]
  },
  {
   "cell_type": "code",
   "execution_count": null,
   "id": "38e9d808",
   "metadata": {},
   "outputs": [
    {
     "name": "stdout",
     "output_type": "stream",
     "text": [
      "used     : 2.109231872 GB\n",
      "peak     : 4.212686336 GB\n",
      "total    : 0.0 GB\n",
      "largest free block: 0.0 GB\n",
      "(256, 256, 1, 1000)\n",
      "power:  10.000000000054223  MW\n"
     ]
    },
    {
     "data": {
      "image/png": "[encoded data removed]",
      "text/plain": [
       "<Figure size 640x480 with 2 Axes>"
      ]
     },
     "metadata": {},
     "output_type": "display_data"
    }
   ],
   "source": [
    "stats = dev.memory_stats() \n",
    "print(\"used     :\", gb(stats.get(\"bytes_in_use\", 0)), \"GB\")\n",
    "print(\"peak     :\", gb(stats.get(\"peak_bytes_in_use\", 0)), \"GB\")\n",
    "print(\"total    :\", gb(stats.get(\"total_device_memory\", 0)), \"GB\")\n",
    "print(\"largest free block:\", gb(stats.get(\"largest_free_block_bytes\", 0)), \"GB\")\n",
    "\n",
    "slot = 465; # Last save slot\n",
    "time = 0; # Time slot to visualize\n",
    "print(results_prime[\"field\"].shape);\n",
    "\n",
    "res_field_p = results_prime[\"field\"][:, :, time, slot];\n",
    "\n",
    "I_xy = jnp.real(res_field_p)**2 + jnp.imag(res_field_p)**2\n",
    "P_xy = jnp.sum(I_xy) * dx * dy;\n",
    "print(\"power: \", P_xy * 1e-6 , \" MW\");\n",
    "\n",
    "plt.figure();\n",
    "plt.imshow(I_xy, cmap='hot', interpolation='nearest');\n",
    "plt.colorbar();\n",
    "plt.title(f\"Intensity: t ={time * Lt/Nt}, z= {round(save_at[slot], 3)*100} cm, power = {round(P_xy * 1e-6, 2)} MW\");\n",
    "plt.xlabel(\"x\");    plt.ylabel(\"y\");\n",
    "plt.show();"
   ]
  },
  {
   "cell_type": "code",
   "execution_count": null,
   "id": "d5988e81",
   "metadata": {},
   "outputs": [],
   "source": []
  }
 ],
 "metadata": {
  "kernelspec": {
   "display_name": "Python 3",
   "language": "python",
   "name": "python3"
  },
  "language_info": {
   "codemirror_mode": {
    "name": "ipython",
    "version": 3
   },
   "file_extension": ".py",
   "mimetype": "text/x-python",
   "name": "python",
   "nbconvert_exporter": "python",
   "pygments_lexer": "ipython3",
   "version": "3.12.3"
  }
 },
 "nbformat": 4,
 "nbformat_minor": 5
}
