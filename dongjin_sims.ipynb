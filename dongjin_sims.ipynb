{
 "cells": [
  {
   "cell_type": "code",
   "execution_count": 1,
   "id": "bb38905d",
   "metadata": {},
   "outputs": [
    {
     "name": "stdout",
     "output_type": "stream",
     "text": [
      "None\n",
      "true\n",
      "[CudaDevice(id=0)]\n",
      "[CudaDevice(id=0)]\n"
     ]
    },
    {
     "name": "stderr",
     "output_type": "stream",
     "text": [
      "/home/josalferr/.local/lib/python3.12/site-packages/matplotlib/projections/__init__.py:63: UserWarning: Unable to import Axes3D. This may be due to multiple versions of Matplotlib being installed (e.g. as a system package and as a pip package). As a result, the 3D projection is not available.\n",
      "  warnings.warn(\"Unable to import Axes3D. This may be due to multiple versions of \"\n"
     ]
    }
   ],
   "source": [
    "import os\n",
    "os.environ[\"XLA_PYTHON_CLIENT_PREALLOCATE\"] = \"true\";\n",
    "os.environ[\"XLA_PYTHON_CLIENT_MEM_FRACTION\"]=\"1.00\";\n",
    "#os.environ[\"TF_GPU_ALLOCATOR\"]=\"cuda_malloc_async\";\n",
    "print(os.environ.get(\"TF_GPU_ALLOCATOR\"))\n",
    "print(os.environ.get(\"XLA_PYTHON_CLIENT_PREALLOCATE\"))\n",
    "import jax\n",
    "jax.config.update(\"jax_enable_x64\", True);\n",
    "print(jax.devices());\n",
    "print(jax.local_devices());\n",
    "\n",
    "import jax.numpy as jnp;\n",
    "from types import SimpleNamespace;\n",
    "from pathlib import Path\n",
    "import numpy as np\n",
    "from functools import partial\n",
    "from gnlse_medium import *\n",
    "from gnlse_source import *\n",
    "\n",
    "from gnlse_solver import *\n",
    "from gnlse_events import *\n",
    "from gnlse_visualizations import *\n",
    "import matplotlib.pyplot as plt\n",
    "import gc; \n",
    "gc.collect();\n",
    "\n",
    "\n",
    "jr64 = 'float64';\n",
    "jc128 = 'complex128';\n",
    "\n",
    "def mem_diagnostics():\n",
    "    dev = jax.devices()[0]\n",
    "    stats = dev.memory_stats() \n",
    "    def gb(x): return x / 1e9\n",
    "\n",
    "    print(\"used     :\", gb(stats.get(\"bytes_in_use\", 0)), \"GB\")\n",
    "    print(\"peak     :\", gb(stats.get(\"peak_bytes_in_use\", 0)), \"GB\")\n",
    "    print(\"total    :\", gb(stats.get(\"total_device_memory\", 0)), \"GB\")\n",
    "    print(\"largest free block:\", gb(stats.get(\"largest_free_block_bytes\", 0)), \"GB\")"
   ]
  },
  {
   "cell_type": "code",
   "execution_count": null,
   "id": "f02f0914",
   "metadata": {},
   "outputs": [],
   "source": []
  },
  {
   "cell_type": "code",
   "execution_count": 2,
   "id": "b84ef02d",
   "metadata": {},
   "outputs": [
    {
     "name": "stdout",
     "output_type": "stream",
     "text": [
      "used     : 0.0 GB\n",
      "peak     : 0.0 GB\n",
      "total    : 0.0 GB\n",
      "largest free block: 0.0 GB\n"
     ]
    }
   ],
   "source": [
    "mem_diagnostics();\n",
    "jax.clear_caches()"
   ]
  },
  {
   "cell_type": "code",
   "execution_count": 3,
   "id": "21c0d7b0",
   "metadata": {},
   "outputs": [],
   "source": [
    "#########################################################################################\n",
    "'''Spatio-temporal params: '''\n",
    "\n",
    "Nx = Ny = 400;\n",
    "Lx = Ly = 300e-6;\n",
    "Lz = 1e-2;\n",
    "Lt = 1.50e-12; # Length of time in seconds\n",
    "Nt = 1; # Number of time steps\n",
    "dx = Lx/Nx;\n",
    "dy = Ly/Ny;\n",
    "\n",
    "\n",
    "X, Y = make_space(Lx, Nx, Ly, Ny);"
   ]
  },
  {
   "cell_type": "code",
   "execution_count": 4,
   "id": "96ed4f72",
   "metadata": {},
   "outputs": [
    {
     "name": "stdout",
     "output_type": "stream",
     "text": [
      "power:  0.545  MW\n"
     ]
    }
   ],
   "source": [
    "lambda0 = 1064e-9; # central wavelength\n",
    "\n",
    "\n",
    "# assume dx, dy, X, Y already defined; D_in is 1/e^2 diameter\n",
    "power = 0.545e6  # W\n",
    "D_in = 60e-6\n",
    "w_in = D_in/2.0  # 1/e^2 radius\n",
    "\n",
    "g_amp = jnp.exp(-(X**2 + Y**2)/w_in**2)           # amplitude shape\n",
    "shape = g_amp**2                                  # intensity shape = exp(-2 r^2 / w^2)\n",
    "norm  = jnp.sum(shape) * dx * dy                  # ∑ s_ij ΔxΔy\n",
    "E0    = jnp.sqrt(power / norm)                    # <-- no (dx*dy) in denominator here\n",
    "Ein   = E0 * g_amp\n",
    "\n",
    "I_xy = jnp.abs(Ein)**2\n",
    "P_xy = jnp.sum(I_xy) * dx * dy\n",
    "print(\"power: \", float(P_xy)*1e-6, \" MW\")         # ≈ 20.0 MW\n"
   ]
  },
  {
   "cell_type": "code",
   "execution_count": 5,
   "id": "f9b82194",
   "metadata": {},
   "outputs": [],
   "source": [
    "n_clad =1.44;\n",
    "n_core = 1.44;\n",
    "nxy = jnp.ones((Nx, Ny), dtype=jr64) * 1.44; # uniform index profile\n",
    "n_xyomega = jnp.tile(nxy[:,:,None], (1,1 , Nt));"
   ]
  },
  {
   "cell_type": "code",
   "execution_count": 6,
   "id": "95699354",
   "metadata": {},
   "outputs": [],
   "source": [
    "''' Define temporal profile '''\n",
    "phis = 0.0;\n",
    "t0 = 0.0;\n",
    "fwhm = 120e-15; ''' 120 fs '''\n",
    "phase = 0.0;\n",
    "omega0 = 2 * jnp.pi / lambda0; ''' Carrier frequency in rad/s '''\n",
    "T = jnp.linspace(-Lt/2, Lt/2, Nt); # time grid`\n",
    "\n",
    "lambdas = jnp.array([1030e-9])\n",
    "phis    = jnp.array([0.0])\n",
    "\n",
    "#E_t_cw  = cw_temp_profile_freq(lambdas, phis, Lt, Nt)\n",
    "# Gaussian: 150 fs FWHM, centered at t0=0, with a carrier shift\n",
    "E_t_gauss = gaussian_pulse_profile_freq(t0=0.0, fwhm=150e-15, Lt=Lt, Nt=Nt, carrier_omega=0.0, phase=0.0)"
   ]
  },
  {
   "cell_type": "code",
   "execution_count": 7,
   "id": "c78c4f0d",
   "metadata": {},
   "outputs": [
    {
     "name": "stdout",
     "output_type": "stream",
     "text": [
      "(400, 400, 1)\n"
     ]
    },
    {
     "data": {
      "image/png": "[encoded data removed]",
      "text/plain": [
       "<Figure size 640x480 with 1 Axes>"
      ]
     },
     "metadata": {},
     "output_type": "display_data"
    }
   ],
   "source": [
    "plt.figure();\n",
    "plt.plot(T * 1e15, np.abs(E_t_gauss)**2 / 1e6);\n",
    "plt.xlabel(\"Time (fs)\"); plt.ylabel(\"Power(t) (MW)\");\n",
    "plt.title(\"Temporal profile\");\n",
    "\n",
    "field = combine_spatial_temporal(Ein, E_t_gauss) ;\n",
    "print(jnp.shape(field));"
   ]
  },
  {
   "cell_type": "code",
   "execution_count": 8,
   "id": "ca12bf9c",
   "metadata": {},
   "outputs": [
    {
     "name": "stdout",
     "output_type": "stream",
     "text": [
      "power:  0.5450000000000002  MW\n"
     ]
    },
    {
     "data": {
      "image/png": "[encoded data removed]",
      "text/plain": [
       "<Figure size 640x480 with 2 Axes>"
      ]
     },
     "metadata": {},
     "output_type": "display_data"
    }
   ],
   "source": [
    "t_index =  int(Nt / 2); # Time index to visualize\n",
    "I_xy = jnp.real(field[:, :, t_index])**2 + jnp.imag(field[:, :, t_index])**2\n",
    "P_xy = jnp.sum(I_xy) * dx * dy;\n",
    "print(\"power: \", P_xy / 1e6, \" MW\");\n",
    "\n",
    "\n",
    "plt.figure()\n",
    "plt.imshow(I_xy, cmap='hot', interpolation='nearest');\n",
    "plt.colorbar();\n",
    "plt.title(f\"Intensity at t = {t_index}\");\n",
    "plt.xlabel(\"x\");    plt.ylabel(\"y\");\n",
    "plt.show();"
   ]
  },
  {
   "cell_type": "code",
   "execution_count": 9,
   "id": "08767c55",
   "metadata": {},
   "outputs": [
    {
     "name": "stdout",
     "output_type": "stream",
     "text": [
      "beta0:  8503559.062348312\n"
     ]
    },
    {
     "data": {
      "text/plain": [
       "' args '"
      ]
     },
     "execution_count": 9,
     "metadata": {},
     "output_type": "execute_result"
    }
   ],
   "source": [
    "#############################################################################################\n",
    "''' Define remaining params: '''\n",
    "c = 2.998e8;\n",
    "beta0 = n_core * 2 * jnp.pi / lambda0;\n",
    "print(\"beta0: \", beta0);\n",
    "n_g = 1.468; # group index\n",
    "beta1 = n_g / c;\n",
    "beta2 = 22e-27; # 1.0; # Dispersion coefficient in s^2/m\n",
    "n2 = 2.22e-20; ''' 2.22e-20 m^2/W '''\n",
    "omega = None;\n",
    "\n",
    "pml_thickness = 40;\n",
    "pml_Wmax = 1e12;\n",
    "''' args '''\n",
    "\n"
   ]
  },
  {
   "cell_type": "code",
   "execution_count": 10,
   "id": "93da2c25",
   "metadata": {},
   "outputs": [
    {
     "name": "stdout",
     "output_type": "stream",
     "text": [
      "[0.         0.00040404 0.00080808 0.00121212 0.00161616 0.0020202\n",
      " 0.00242424 0.00282828 0.00323232 0.00363636 0.0040404  0.00444444\n",
      " 0.00484848 0.00525253 0.00565657 0.00606061 0.00646465 0.00686869\n",
      " 0.00727273 0.00767677 0.00808081 0.00848485 0.00888889 0.00929293\n",
      " 0.00969697 0.01010101 0.01050505 0.01090909 0.01131313 0.01171717\n",
      " 0.01212121 0.01252525 0.01292929 0.01333333 0.01373737 0.01414141\n",
      " 0.01454545 0.01494949 0.01535354 0.01575758 0.01616162 0.01656566\n",
      " 0.0169697  0.01737374 0.01777778 0.01818182 0.01858586 0.0189899\n",
      " 0.01939394 0.01979798 0.02020202 0.02060606 0.0210101  0.02141414\n",
      " 0.02181818 0.02222222 0.02262626 0.0230303  0.02343434 0.02383838\n",
      " 0.02424242 0.02464646 0.02505051 0.02545455 0.02585859 0.02626263\n",
      " 0.02666667 0.02707071 0.02747475 0.02787879 0.02828283 0.02868687\n",
      " 0.02909091 0.02949495 0.02989899 0.03030303 0.03070707 0.03111111\n",
      " 0.03151515 0.03191919 0.03232323 0.03272727 0.03313131 0.03353535\n",
      " 0.03393939 0.03434343 0.03474747 0.03515152 0.03555556 0.0359596\n",
      " 0.03636364 0.03676768 0.03717172 0.03757576 0.0379798  0.03838384\n",
      " 0.03878788 0.03919192 0.03959596 0.04      ]\n",
      "used     : 0.012802816 GB\n",
      "peak     : 0.019202048 GB\n",
      "total    : 0.0 GB\n",
      "largest free block: 0.0 GB\n"
     ]
    }
   ],
   "source": [
    "# override from previous cells:\n",
    "Lz = 4e-2; # Length of propagation in z\n",
    "save_at = jnp.linspace(0, Lz, 100, endpoint=True); # save at these positions in z\n",
    "print(save_at)\n",
    "n2 = 2.22e-20\n",
    "\n",
    "##########\n",
    "args = {\"Lx\" : Lx, \"Ly\": Ly, \"Lz\": Lz, \"Lt\": Lt,   # spatiotemporal dimensions\n",
    "        \"Nx\": Nx, \"Ny\": Ny, \"Nt\": Nt,              # spatial and temporal grid\n",
    "        \"n_xyomega\": n_xyomega, \"n2\": n2, \"nref\": n_clad, # potential params\n",
    "        \"beta0\": beta0, \"beta1\" : beta1,       # propagation params\n",
    "        \"beta2\": beta2, \"lambda0\": lambda0,    # propagation params\n",
    "        \"save_at\": save_at,                   # array of z positions to save at\n",
    "        \"deltaZ\": 1e-6,                       # linear step size\n",
    "        \"deltaZ_NL\":1e-5,                      # nonlinear step size\n",
    "        \"saturation_intensity\": 5e-5,          #\n",
    "        \"gain_coeff\": 0.0,\n",
    "        \"gain_fwhm\": 0.0,\n",
    "        \"t1\": 12.2e-15, \"t2\": 32e-15,       \n",
    "        \"pml_thickness\": pml_thickness, \"pml_Wmax\": pml_Wmax, # pml_Wmax,\n",
    "        \"fr\": 0.0, \"sw\": 0                   # raman fraction (0.0 for no raman) and \n",
    "       };\n",
    "\n",
    "mem_diagnostics();"
   ]
  },
  {
   "cell_type": "code",
   "execution_count": 11,
   "id": "f2143df6",
   "metadata": {},
   "outputs": [],
   "source": [
    "results = GNLSE3D_propagate(args, field); "
   ]
  },
  {
   "cell_type": "code",
   "execution_count": null,
   "id": "acf6c9a3",
   "metadata": {},
   "outputs": [],
   "source": []
  },
  {
   "cell_type": "code",
   "execution_count": 12,
   "id": "faf8a418",
   "metadata": {},
   "outputs": [
    {
     "name": "stdout",
     "output_type": "stream",
     "text": [
      "(400, 400, 1, 100)\n",
      "power:  0.5446803781449464  MW\n"
     ]
    },
    {
     "data": {
      "image/png": "[encoded data removed]",
      "text/plain": [
       "<Figure size 640x480 with 2 Axes>"
      ]
     },
     "metadata": {},
     "output_type": "display_data"
    }
   ],
   "source": [
    "\n",
    "slot = -1; # Last save slot\n",
    "time = 125; # Time slot to visualize\n",
    "print(results[\"field\"].shape);\n",
    "\n",
    "res_field = results[\"field\"][:, :, time, slot];\n",
    "\n",
    "I_xy = jnp.real(res_field)**2 + jnp.imag(res_field)**2\n",
    "P_xy = jnp.sum(I_xy) * dx * dy;\n",
    "print(\"power: \", P_xy * 1e-6 , \" MW\");\n",
    "\n",
    "plt.figure();\n",
    "plt.imshow(I_xy, cmap='hot', interpolation='nearest');\n",
    "plt.colorbar();\n",
    "plt.title(f\"Intensity: t ={time * Lt/Nt}, z= {round(save_at[slot], 3)*100} cm, power = {round(P_xy * 1e-6, 2)} MW\");\n",
    "plt.xlabel(\"x\");    plt.ylabel(\"y\");\n",
    "plt.show();"
   ]
  },
  {
   "cell_type": "code",
   "execution_count": null,
   "id": "30172685",
   "metadata": {},
   "outputs": [
    {
     "ename": "IndentationError",
     "evalue": "expected an indented block after 'if' statement on line 91 (1909976325.py, line 92)",
     "output_type": "error",
     "traceback": [
      "\u001b[0;36m  Cell \u001b[0;32mIn[17], line 92\u001b[0;36m\u001b[0m\n\u001b[0;31m    vmin = np.nanmin(data_sel)\u001b[0m\n\u001b[0m    ^\u001b[0m\n\u001b[0;31mIndentationError\u001b[0m\u001b[0;31m:\u001b[0m expected an indented block after 'if' statement on line 91\n"
     ]
    }
   ],
   "source": [
    "def make_xy_z_animation(field4d,\n",
    "                        t_index=-1,\n",
    "                        x=None, y=None, z=None,\n",
    "                        quantity='intensity',      # 'intensity' (|E|^2), 'abs', 'real', 'imag', 'phase'\n",
    "                        norm='global',             # 'global' or 'per_frame'\n",
    "                        z_window=None,             # (z_start, z_end) in same units as z (ignored if z is None)\n",
    "                        frame_window=None,         # (i_start, i_end) inclusive/exclusive frame indices\n",
    "                        stride=1,                  # take every 'stride' frame in the selected window\n",
    "                        fps=30,\n",
    "                        filename='xy_z.gif',\n",
    "                        dpi=120,\n",
    "                        Lz = 1e-2,\n",
    "                        log_scale=False,           # NEW: whether to plot in log10 scale\n",
    "                        eps=1e-12):                # NEW: floor to avoid log(0)\n",
    "    \"\"\"\n",
    "    Animate the transverse (x,y) field vs propagation distance z at a fixed time index t.\n",
    "    \"\"\"\n",
    "    assert field4d.ndim == 4, \"Expected (Nx, Ny, Nt, Nz).\"\n",
    "    Nx, Ny, Nt, Nz = field4d.shape\n",
    "    if not (-Nt <= t_index < Nt):\n",
    "        raise IndexError(f\"t_index {t_index} out of range for Nt={Nt}\")\n",
    "\n",
    "    # Extract the (x,y,z) block at fixed t\n",
    "    F = field4d[:, :, t_index, :]  # (Nx, Ny, Nz)\n",
    "\n",
    "    # Map to requested quantity\n",
    "    if quantity == 'intensity':\n",
    "        data_z = np.abs(F)**2\n",
    "        cbar_label = r'|E|$^2$'\n",
    "    elif quantity == 'abs':\n",
    "        data_z = np.abs(F)\n",
    "        cbar_label = r'|E|'\n",
    "    elif quantity == 'real':\n",
    "        data_z = np.real(F)\n",
    "        cbar_label = 'Re{E}'\n",
    "    elif quantity == 'imag':\n",
    "        data_z = np.imag(F)\n",
    "        cbar_label = 'Im{E}'\n",
    "    elif quantity == 'phase':\n",
    "        data_z = np.angle(F)\n",
    "        cbar_label = 'arg(E)'\n",
    "    else:\n",
    "        raise ValueError(\"quantity must be one of: 'intensity', 'abs', 'real', 'imag', 'phase'\")\n",
    "\n",
    "    # Apply log scale if requested (skip for phase, real, imag unless explicitly wanted)\n",
    "    if log_scale:\n",
    "        if quantity in ['intensity', 'abs']:\n",
    "            data_z = np.log10(data_z + eps)\n",
    "            cbar_label = \"log₁₀(\" + cbar_label + \")\"\n",
    "        else:\n",
    "            print(\"Warning: log scale applied to non-magnitude quantity.\")\n",
    "\n",
    "    # Determine the z/frame subset\n",
    "    if z_window is not None:\n",
    "        if z is None:\n",
    "            raise ValueError(\"z_window was provided but `z` axis is None.\")\n",
    "        z = np.asarray(z)\n",
    "        if len(z) != Nz:\n",
    "            raise ValueError(\"Length of `z` must match Nz dimension of field.\")\n",
    "        z_start, z_end = z_window\n",
    "        if z_start > z_end:\n",
    "            z_start, z_end = z_end, z_start\n",
    "        i0 = int(np.clip(np.searchsorted(z, z_start, side='left'), 0, Nz-1))\n",
    "        i1 = int(np.clip(np.searchsorted(z, z_end,   side='right'), 0, Nz))  # exclusive\n",
    "    elif frame_window is not None:\n",
    "        i0, i1 = frame_window\n",
    "        i0 = int(np.clip(i0, 0, Nz))\n",
    "        i1 = int(np.clip(i1, i0+1, Nz))  # ensure at least one frame if possible\n",
    "    else:\n",
    "        i0, i1 = 0, Nz\n",
    "\n",
    "    # Apply stride\n",
    "    frame_indices = np.arange(i0, i1, stride, dtype=int)\n",
    "    if frame_indices.size == 0:\n",
    "        raise ValueError(\"Selected z/frame window is empty after applying stride.\")\n",
    "\n",
    "    data_sel = data_z[..., frame_indices]              # (Nx, Ny, Nf)\n",
    "    z_sel = z[frame_indices] if (z is not None and len(z) == Nz) else None\n",
    "    Nf = data_sel.shape[-1]\n",
    "\n",
    "    # Axes extents for imshow\n",
    "    if x is not None and y is not None:\n",
    "        x = np.asarray(x); y = np.asarray(y)\n",
    "        extent = [x.min(), x.max(), y.min(), y.max()]\n",
    "        xlabel, ylabel = 'x', 'y'\n",
    "    else:\n",
    "        extent = None\n",
    "        xlabel, ylabel = 'pixel x', 'pixel y'\n",
    "\n",
    "    # Normalization over the displayed frames\n",
    "    if norm == 'global':\n",
    "        vmin = np.nanmin(data_sel)\n",
    "        vmax = np.nanmax(data_sel)\n",
    "        if not np.isfinite(vmin) or not np.isfinite(vmax) or vmax == vmin:\n",
    "            vmax = vmin + (1e-12 if np.isfinite(vmin) else 1.0)\n",
    "\n",
    "    elif norm == 'first_frame':\n",
    "        vmin = np.nanmin(data_sel[..., 0])\n",
    "        vmax = np.nanmax(data_sel[..., 0])\n",
    "        if not np.isfinite(vmin) or not np.isfinite(vmax) or vmax == vmin:\n",
    "            vmax = vmin + (1e-12 if np.isfinite(vmin) else 1.0)\n",
    "\n",
    "    elif norm == 'per_frame':\n",
    "        vmin = vmax = None\n",
    "    else:\n",
    "        raise ValueError(\"norm must be 'global', 'per_frame', or 'first_frame'\")\n",
    "\n",
    "    # Prepare figure\n",
    "    fig, ax = plt.subplots()\n",
    "    im = ax.imshow(data_sel[..., 0].T, origin='lower', extent=extent, vmin=vmin, vmax=vmax)\n",
    "    ax.set_xlabel(xlabel); ax.set_ylabel(ylabel)\n",
    "    if z_sel is not None:\n",
    "        title = ax.set_title(f\"t index = {t_index}, z = {z_sel[0]}\")\n",
    "    else:\n",
    "        title = ax.set_title(f\"t index = {t_index}, z = {frame_indices[0]/frame_indices[-1]*Lz:.2e} m\")\n",
    "\n",
    "    # Colorbar\n",
    "    cbar = fig.colorbar(im, ax=ax)\n",
    "    cbar.set_label(cbar_label)\n",
    "\n",
    "    # Frame update\n",
    "    def update(k):\n",
    "        frame_data = data_sel[..., k]\n",
    "        if norm == 'per_frame':\n",
    "            # only per-frame mode updates the clim\n",
    "            im.set_clim(np.nanmin(frame_data), np.nanmax(frame_data))\n",
    "        im.set_data(frame_data.T)\n",
    "        if z_sel is not None:\n",
    "            title.set_text(f\"t index = {t_index}, z = {z_sel[k]}\")\n",
    "        else:\n",
    "            title.set_text(f\"t index = {t_index}, z = {frame_indices[k]/frame_indices[-1]*Lz:.2e} m\")\n",
    "        return (im,)\n",
    "\n",
    "    anim = FuncAnimation(fig, update, frames=Nf, interval=1000.0/fps, blit=False)\n",
    "\n",
    "    # Save as GIF\n",
    "    writer = PillowWriter(fps=fps)\n",
    "    anim.save(filename, writer=writer, dpi=dpi)\n",
    "    plt.close(fig)\n",
    "    return filename\n"
   ]
  },
  {
   "cell_type": "code",
   "execution_count": 16,
   "id": "334744cd",
   "metadata": {},
   "outputs": [
    {
     "name": "stdout",
     "output_type": "stream",
     "text": [
      "Saved animation to: xy_z_gaussian_beam_CW_test_log.gif\n"
     ]
    }
   ],
   "source": [
    "# Create an animation of the field intensity over time\n",
    "\n",
    "gif_path = make_xy_z_animation(results[\"field\"], t_index=-1, quantity='intensity', norm='global',\n",
    "                               fps=30, filename='xy_z_gaussian_beam_CW_test_log.gif', log_scale=False, Lz = Lz)\n",
    "print(\"Saved animation to:\", gif_path)\n"
   ]
  },
  {
   "cell_type": "code",
   "execution_count": 15,
   "id": "bf2459d7",
   "metadata": {},
   "outputs": [
    {
     "name": "stderr",
     "output_type": "stream",
     "text": [
      "/home/josalferr/.local/lib/python3.12/site-packages/matplotlib/cbook.py:1709: ComplexWarning: Casting complex values to real discards the imaginary part\n",
      "  return math.isfinite(val)\n",
      "/home/josalferr/.local/lib/python3.12/site-packages/matplotlib/cbook.py:1345: ComplexWarning: Casting complex values to real discards the imaginary part\n",
      "  return np.asarray(x, float)\n"
     ]
    },
    {
     "data": {
      "text/plain": [
       "[<matplotlib.lines.Line2D at 0x777e04369370>]"
      ]
     },
     "execution_count": 15,
     "metadata": {},
     "output_type": "execute_result"
    },
    {
     "data": {
      "image/png": "[encoded data removed]",
      "text/plain": [
       "<Figure size 640x480 with 1 Axes>"
      ]
     },
     "metadata": {},
     "output_type": "display_data"
    }
   ],
   "source": [
    "plt.plot(jnp.fft.fft(power_vs_time_from_results(results, z_index=-1, dx=dx, dy=dy)))\n",
    "plt.plot(jnp.fft.fft(power_vs_time_from_results(results, z_index=0, dx=dx, dy=dy)))"
   ]
  },
  {
   "cell_type": "code",
   "execution_count": null,
   "id": "d241101a",
   "metadata": {},
   "outputs": [],
   "source": []
  }
 ],
 "metadata": {
  "kernelspec": {
   "display_name": "Python 3",
   "language": "python",
   "name": "python3"
  },
  "language_info": {
   "codemirror_mode": {
    "name": "ipython",
    "version": 3
   },
   "file_extension": ".py",
   "mimetype": "text/x-python",
   "name": "python",
   "nbconvert_exporter": "python",
   "pygments_lexer": "ipython3",
   "version": "3.12.3"
  }
 },
 "nbformat": 4,
 "nbformat_minor": 5
}
